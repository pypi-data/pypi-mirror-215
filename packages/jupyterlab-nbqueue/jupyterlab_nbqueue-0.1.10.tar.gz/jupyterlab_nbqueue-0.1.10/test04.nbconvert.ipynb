{
 "cells": [
  {
   "cell_type": "code",
   "execution_count": 1,
   "id": "9974d0ab-b445-4605-ad0c-9eaa93379188",
   "metadata": {
    "execution": {
     "iopub.execute_input": "2023-06-23T14:03:45.832945Z",
     "iopub.status.busy": "2023-06-23T14:03:45.832549Z",
     "iopub.status.idle": "2023-06-23T14:03:55.851894Z",
     "shell.execute_reply": "2023-06-23T14:03:55.850973Z"
    }
   },
   "outputs": [
    {
     "name": "stdout",
     "output_type": "stream",
     "text": [
      "hello world\n"
     ]
    }
   ],
   "source": [
    "import time\n",
    "\n",
    "time.sleep(10)\n",
    "print('hello world')"
   ]
  }
 ],
 "metadata": {
  "kernelspec": {
   "display_name": "Python 3 (ipykernel)",
   "language": "python",
   "name": "python3"
  },
  "language_info": {
   "codemirror_mode": {
    "name": "ipython",
    "version": 3
   },
   "file_extension": ".py",
   "mimetype": "text/x-python",
   "name": "python",
   "nbconvert_exporter": "python",
   "pygments_lexer": "ipython3",
   "version": "3.11.4"
  }
 },
 "nbformat": 4,
 "nbformat_minor": 5
}
