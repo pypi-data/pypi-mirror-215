{
 "cells": [
  {
   "attachments": {},
   "cell_type": "markdown",
   "metadata": {},
   "source": [
    "# A simple demo of zeroshot\n",
    "This demo reads an image from a URL, and runs a zeroshot model on it."
   ]
  },
  {
   "cell_type": "code",
   "execution_count": null,
   "metadata": {},
   "outputs": [],
   "source": [
    "# Install dependencies.\n",
    "!pip install zeroshot\n",
    "!pip install numpy requests Pillow"
   ]
  },
  {
   "cell_type": "code",
   "execution_count": null,
   "metadata": {},
   "outputs": [],
   "source": [
    "import requests\n",
    "import numpy as np\n",
    "from PIL import Image"
   ]
  },
  {
   "attachments": {},
   "cell_type": "markdown",
   "metadata": {},
   "source": [
    "## Image loading\n",
    "\n",
    "First, let's define a simple function to load an image from a URL."
   ]
  },
  {
   "cell_type": "code",
   "execution_count": null,
   "metadata": {},
   "outputs": [],
   "source": [
    "def load_image(url: str) -> np.ndarray:\n",
    "    # Download the image (we'll add some headers since not all websites like the default Python user agent)\n",
    "    headers = {\n",
    "        \"User-Agent\": \"Mozilla/5.0 (Windows NT 10.0;Win64) AppleWebkit/537.36 (KHTML, like Gecko) Chrome/89.0.4389.82 Safari/537.36\"\n",
    "    }\n",
    "    response = requests.get(url, headers=headers, timeout=1)\n",
    "    data = io.BytesIO(response.content)\n",
    "\n",
    "    # Load and convert to Numpy array.\n",
    "    img_pil = Image.open(data)\n",
    "    img = np.array(img_pil)\n",
    "\n",
    "    # Remove the alpha channel if there is one.\n",
    "    if img.shape[-1] == 4:\n",
    "        img = img[:, :, :3]\n",
    "\n",
    "    # BGR to RGB\n",
    "    return img[..., ::-1]\n"
   ]
  },
  {
   "attachments": {},
   "cell_type": "markdown",
   "metadata": {},
   "source": []
  }
 ],
 "metadata": {
  "language_info": {
   "name": "python"
  },
  "orig_nbformat": 4
 },
 "nbformat": 4,
 "nbformat_minor": 2
}
