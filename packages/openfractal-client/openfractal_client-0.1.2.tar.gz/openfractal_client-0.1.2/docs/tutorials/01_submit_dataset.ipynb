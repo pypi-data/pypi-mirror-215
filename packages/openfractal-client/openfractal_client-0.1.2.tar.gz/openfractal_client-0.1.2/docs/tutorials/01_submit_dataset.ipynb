{
 "cells": [
  {
   "cell_type": "markdown",
   "id": "da44cd8e-57cd-4f53-b49e-c308b1f91a81",
   "metadata": {},
   "source": [
    "In this tutorial you'll learn how to submit a dataset to a QCFractal instance (also called backend or server)."
   ]
  },
  {
   "cell_type": "code",
   "execution_count": 2,
   "id": "f3364324-9975-4ce5-964d-50b120342f0c",
   "metadata": {},
   "outputs": [],
   "source": [
    "import os\n",
    "import dotenv\n",
    "import random\n",
    "\n",
    "from tqdm.auto import tqdm\n",
    "\n",
    "import datamol as dm\n",
    "import pandas as pd\n",
    "\n",
    "from openff.toolkit import Molecule\n",
    "\n",
    "import qcelemental as qcel\n",
    "\n",
    "from qcportal import PortalClient\n",
    "from qcportal.record_models import PriorityEnum\n",
    "\n",
    "from qcportal.singlepoint.dataset_models import SinglepointDatasetNewEntry\n",
    "from qcportal.singlepoint.record_models import QCSpecification\n",
    "from qcportal.singlepoint.record_models import SinglepointDriver\n",
    "\n",
    "_ = dotenv.load_dotenv(\"../../openfractal_test_secrets.env\")"
   ]
  },
  {
   "cell_type": "markdown",
   "id": "e597d676-400e-4a0e-926f-84d74ca8c7f6",
   "metadata": {},
   "source": [
    "## Prepare the dataset"
   ]
  },
  {
   "cell_type": "markdown",
   "id": "4278baa8-ba31-4199-99be-406975157cdd",
   "metadata": {},
   "source": [
    "First we pull a random subset of `datamol.data.freesolv()`, create `openff.Molecule` objects from it and generate one conformer per molecule."
   ]
  },
  {
   "cell_type": "code",
   "execution_count": 2,
   "id": "aac18d1e-f370-4edb-9731-1d4bfc4fef60",
   "metadata": {},
   "outputs": [
    {
     "data": {
      "application/vnd.jupyter.widget-view+json": {
       "model_id": "",
       "version_major": 2,
       "version_minor": 0
      },
      "text/plain": [
       "  0%|          | 0/10 [00:00<?, ?it/s]"
      ]
     },
     "metadata": {},
     "output_type": "display_data"
    },
    {
     "data": {
      "text/html": [
       "<div>\n",
       "<style scoped>\n",
       "    .dataframe tbody tr th:only-of-type {\n",
       "        vertical-align: middle;\n",
       "    }\n",
       "\n",
       "    .dataframe tbody tr th {\n",
       "        vertical-align: top;\n",
       "    }\n",
       "\n",
       "    .dataframe thead th {\n",
       "        text-align: right;\n",
       "    }\n",
       "</style>\n",
       "<table border=\"1\" class=\"dataframe\">\n",
       "  <thead>\n",
       "    <tr style=\"text-align: right;\">\n",
       "      <th></th>\n",
       "      <th>iupac</th>\n",
       "      <th>smiles</th>\n",
       "      <th>expt</th>\n",
       "      <th>calc</th>\n",
       "      <th>mol</th>\n",
       "    </tr>\n",
       "  </thead>\n",
       "  <tbody>\n",
       "    <tr>\n",
       "      <th>0</th>\n",
       "      <td>pyridine</td>\n",
       "      <td>c1ccncc1</td>\n",
       "      <td>-4.69</td>\n",
       "      <td>-3.508</td>\n",
       "      <td>Molecule with name '' and SMILES '[H][c]1[n][c...</td>\n",
       "    </tr>\n",
       "    <tr>\n",
       "      <th>1</th>\n",
       "      <td>ethyl propanoate</td>\n",
       "      <td>CCC(=O)OCC</td>\n",
       "      <td>-2.68</td>\n",
       "      <td>-3.221</td>\n",
       "      <td>Molecule with name '' and SMILES '[H][C]([H])(...</td>\n",
       "    </tr>\n",
       "    <tr>\n",
       "      <th>2</th>\n",
       "      <td>2-methylpyridine</td>\n",
       "      <td>Cc1ccccn1</td>\n",
       "      <td>-4.63</td>\n",
       "      <td>-3.501</td>\n",
       "      <td>Molecule with name '' and SMILES '[H][c]1[n][c...</td>\n",
       "    </tr>\n",
       "    <tr>\n",
       "      <th>3</th>\n",
       "      <td>2,3-dichlorodibenzo-p-dioxin</td>\n",
       "      <td>c1ccc2c(c1)Oc3cc(c(cc3O2)Cl)Cl</td>\n",
       "      <td>-3.56</td>\n",
       "      <td>-3.590</td>\n",
       "      <td>Molecule with name '' and SMILES '[H][c]1[c]([...</td>\n",
       "    </tr>\n",
       "    <tr>\n",
       "      <th>4</th>\n",
       "      <td>1-acetoxyethyl acetate</td>\n",
       "      <td>CC(OC(=O)C)OC(=O)C</td>\n",
       "      <td>-4.97</td>\n",
       "      <td>-8.006</td>\n",
       "      <td>Molecule with name '' and SMILES '[H][C]([H])(...</td>\n",
       "    </tr>\n",
       "    <tr>\n",
       "      <th>5</th>\n",
       "      <td>2-methylhexane</td>\n",
       "      <td>CCCCC(C)C</td>\n",
       "      <td>2.93</td>\n",
       "      <td>2.894</td>\n",
       "      <td>Molecule with name '' and SMILES '[H][C]([H])(...</td>\n",
       "    </tr>\n",
       "    <tr>\n",
       "      <th>6</th>\n",
       "      <td>simazine</td>\n",
       "      <td>CCNc1nc(nc(n1)Cl)NCC</td>\n",
       "      <td>-10.22</td>\n",
       "      <td>-10.914</td>\n",
       "      <td>Molecule with name '' and SMILES '[H][N]([c]1[...</td>\n",
       "    </tr>\n",
       "    <tr>\n",
       "      <th>7</th>\n",
       "      <td>triethylphosphate</td>\n",
       "      <td>CCOP(=O)(OCC)OCC</td>\n",
       "      <td>-7.50</td>\n",
       "      <td>-10.251</td>\n",
       "      <td>Molecule with name '' and SMILES '[H][C]([H])(...</td>\n",
       "    </tr>\n",
       "    <tr>\n",
       "      <th>8</th>\n",
       "      <td>methylcyclopentane</td>\n",
       "      <td>CC1CCCC1</td>\n",
       "      <td>1.59</td>\n",
       "      <td>1.785</td>\n",
       "      <td>Molecule with name '' and SMILES '[H][C]([H])(...</td>\n",
       "    </tr>\n",
       "    <tr>\n",
       "      <th>9</th>\n",
       "      <td>hept-1-yne</td>\n",
       "      <td>CCCCCC#C</td>\n",
       "      <td>0.60</td>\n",
       "      <td>0.639</td>\n",
       "      <td>Molecule with name '' and SMILES '[H][C]#[C][C...</td>\n",
       "    </tr>\n",
       "  </tbody>\n",
       "</table>\n",
       "</div>"
      ],
      "text/plain": [
       "                          iupac                          smiles   expt  \\\n",
       "0                      pyridine                        c1ccncc1  -4.69   \n",
       "1              ethyl propanoate                      CCC(=O)OCC  -2.68   \n",
       "2              2-methylpyridine                       Cc1ccccn1  -4.63   \n",
       "3  2,3-dichlorodibenzo-p-dioxin  c1ccc2c(c1)Oc3cc(c(cc3O2)Cl)Cl  -3.56   \n",
       "4        1-acetoxyethyl acetate              CC(OC(=O)C)OC(=O)C  -4.97   \n",
       "5                2-methylhexane                       CCCCC(C)C   2.93   \n",
       "6                      simazine            CCNc1nc(nc(n1)Cl)NCC -10.22   \n",
       "7             triethylphosphate                CCOP(=O)(OCC)OCC  -7.50   \n",
       "8            methylcyclopentane                        CC1CCCC1   1.59   \n",
       "9                    hept-1-yne                        CCCCCC#C   0.60   \n",
       "\n",
       "     calc                                                mol  \n",
       "0  -3.508  Molecule with name '' and SMILES '[H][c]1[n][c...  \n",
       "1  -3.221  Molecule with name '' and SMILES '[H][C]([H])(...  \n",
       "2  -3.501  Molecule with name '' and SMILES '[H][c]1[n][c...  \n",
       "3  -3.590  Molecule with name '' and SMILES '[H][c]1[c]([...  \n",
       "4  -8.006  Molecule with name '' and SMILES '[H][C]([H])(...  \n",
       "5   2.894  Molecule with name '' and SMILES '[H][C]([H])(...  \n",
       "6 -10.914  Molecule with name '' and SMILES '[H][N]([c]1[...  \n",
       "7 -10.251  Molecule with name '' and SMILES '[H][C]([H])(...  \n",
       "8   1.785  Molecule with name '' and SMILES '[H][C]([H])(...  \n",
       "9   0.639  Molecule with name '' and SMILES '[H][C]#[C][C...  "
      ]
     },
     "execution_count": 2,
     "metadata": {},
     "output_type": "execute_result"
    }
   ],
   "source": [
    "def get_toy_molecules(\n",
    "    n_molecules: int = 10,\n",
    "    progress: bool = True,\n",
    "    progress_leave: bool = False,\n",
    "):\n",
    "    # Get some data\n",
    "    data = dm.data.freesolv()\n",
    "    data = data.sample(n=n_molecules)\n",
    "\n",
    "    def _process(smiles):\n",
    "        # Convert to OFF mol\n",
    "        mol = Molecule.from_smiles(smiles)\n",
    "        assert mol is not None\n",
    "\n",
    "        # Generate a conformer\n",
    "        mol.generate_conformers(n_conformers=1)\n",
    "\n",
    "        return mol\n",
    "\n",
    "    # Generate conformers\n",
    "    data[\"mol\"] = dm.parallelized(\n",
    "        _process,\n",
    "        data[\"smiles\"],\n",
    "        progress=progress,\n",
    "        tqdm_kwargs=dict(leave=progress_leave),\n",
    "    )\n",
    "\n",
    "    data = data.reset_index(drop=True)\n",
    "    return data\n",
    "\n",
    "\n",
    "data = get_toy_molecules(n_molecules=10)\n",
    "\n",
    "data"
   ]
  },
  {
   "cell_type": "markdown",
   "id": "90f63924-9e76-46b5-a123-66b816f94bfc",
   "metadata": {},
   "source": [
    "## Initialize the `PortalClient`"
   ]
  },
  {
   "cell_type": "markdown",
   "id": "abb8d2e0-327a-4588-a2e8-f33c9db496ce",
   "metadata": {},
   "source": [
    "The client object will allow to interact with any QCfractal instance."
   ]
  },
  {
   "cell_type": "code",
   "execution_count": 3,
   "id": "2725497c-9c28-4ac5-a7c3-d87462c922bf",
   "metadata": {},
   "outputs": [
    {
     "data": {
      "text/html": [
       "\n",
       "<h3>PortalClient</h3>\n",
       "<ul>\n",
       "<li><b>Server:   &nbsp; </b>openfractal-test</li>\n",
       "<li><b>Address:  &nbsp; </b>https://openfractal-test-pgzbs3yryq-uc.a.run.app/</li>\n",
       "<li><b>Username: &nbsp; </b>admin_default</li>\n",
       "</ul>\n"
      ],
      "text/plain": [
       "PortalClient(server_name='openfractal-test', address='https://openfractal-test-pgzbs3yryq-uc.a.run.app/', username='admin_default')"
      ]
     },
     "execution_count": 3,
     "metadata": {},
     "output_type": "execute_result"
    }
   ],
   "source": [
    "client = PortalClient(\n",
    "    address=\"https://openfractal-test-pgzbs3yryq-uc.a.run.app\",\n",
    "    username=os.environ[\"OPENFRACTAL_USER_1_USERNAME\"],\n",
    "    password=os.environ[\"OPENFRACTAL_USER_1_PASSWORD\"],\n",
    ")\n",
    "\n",
    "client"
   ]
  },
  {
   "cell_type": "markdown",
   "id": "38006b2e-53ec-4dff-a20f-a20154a8942b",
   "metadata": {},
   "source": [
    "You can display some general informations about this instance:"
   ]
  },
  {
   "cell_type": "code",
   "execution_count": 4,
   "id": "d04859eb-63ac-47bc-a1ae-3cddc20fdc75",
   "metadata": {},
   "outputs": [
    {
     "data": {
      "text/plain": [
       "{'name': 'openfractal-test',\n",
       " 'manager_heartbeat_frequency': 10,\n",
       " 'manager_heartbeat_max_missed': 5,\n",
       " 'version': '0.50b12.post16+gee831184',\n",
       " 'api_limits': {'get_records': 1000,\n",
       "  'add_records': 500,\n",
       "  'get_dataset_entries': 2000,\n",
       "  'get_molecules': 1000,\n",
       "  'add_molecules': 1000,\n",
       "  'get_managers': 1000,\n",
       "  'manager_tasks_claim': 200,\n",
       "  'manager_tasks_return': 10,\n",
       "  'get_server_stats': 25,\n",
       "  'get_access_logs': 1000,\n",
       "  'get_error_logs': 100,\n",
       "  'get_internal_jobs': 1000},\n",
       " 'client_version_lower_limit': '0.50b11',\n",
       " 'client_version_upper_limit': '1',\n",
       " 'manager_version_lower_limit': '0.50b11',\n",
       " 'manager_version_upper_limit': '1',\n",
       " 'motd': ''}"
      ]
     },
     "execution_count": 4,
     "metadata": {},
     "output_type": "execute_result"
    }
   ],
   "source": [
    "client.server_info"
   ]
  },
  {
   "cell_type": "markdown",
   "id": "a86bc060-abc7-45f5-bf6f-f1c3cd1d3b61",
   "metadata": {},
   "source": [
    "## Create a new dataset on the server"
   ]
  },
  {
   "cell_type": "code",
   "execution_count": 5,
   "id": "96349389-335b-4381-b9ff-d5751964a653",
   "metadata": {},
   "outputs": [
    {
     "data": {
      "text/plain": [
       "'dataset_demo_4321690179'"
      ]
     },
     "execution_count": 5,
     "metadata": {},
     "output_type": "execute_result"
    }
   ],
   "source": [
    "# Generate a random suffix for your dataset\n",
    "dataset_suffix = \"\".join(random.choices([str(i) for i in range(10)], k=10))\n",
    "\n",
    "dataset_name = f\"dataset_demo_{dataset_suffix}\"\n",
    "\n",
    "dataset_name"
   ]
  },
  {
   "cell_type": "code",
   "execution_count": 33,
   "id": "81481091-778c-4ddc-98dd-fd507d741273",
   "metadata": {},
   "outputs": [
    {
     "data": {
      "text/plain": [
       "{'id': 5,\n",
       " 'dataset_type': 'singlepoint',\n",
       " 'name': 'dataset_demo_4321690179',\n",
       " 'description': 'my great dataset!',\n",
       " 'tagline': '',\n",
       " 'tags': ['demo_tutorial'],\n",
       " 'group': 'default',\n",
       " 'visibility': True,\n",
       " 'provenance': {},\n",
       " 'default_tag': 'demo_tutorial',\n",
       " 'default_priority': <PriorityEnum.normal: 1>,\n",
       " 'owner_user': 'admin_default',\n",
       " 'owner_group': None,\n",
       " 'metadata': {},\n",
       " 'extras': {},\n",
       " 'entry_names_': [],\n",
       " 'specifications_': {},\n",
       " 'entries_': {},\n",
       " 'record_map_': {},\n",
       " 'contributed_values_': None,\n",
       " 'auto_fetch_missing': True}"
      ]
     },
     "execution_count": 33,
     "metadata": {},
     "output_type": "execute_result"
    }
   ],
   "source": [
    "kwargs = {}\n",
    "kwargs[\"dataset_type\"] = \"singlepoint\"\n",
    "kwargs[\"name\"] = dataset_name\n",
    "kwargs[\"description\"] = \"my great dataset!\"\n",
    "# the tag allows you to restrict this dataset to only specific managers\n",
    "kwargs[\"tags\"] = [\"demo_tutorial\"]  \n",
    "kwargs[\"group\"] = None\n",
    "kwargs[\"provenance\"] = {}\n",
    "kwargs[\"visibility\"] = True\n",
    "kwargs[\"default_tag\"] = \"demo_tutorial\"\n",
    "kwargs[\"default_priority\"] = PriorityEnum.normal\n",
    "kwargs[\"metadata\"] = {}\n",
    "kwargs[\"owner_group\"] = None\n",
    "\n",
    "ds = client.add_dataset(**kwargs)\n",
    "\n",
    "ds.dict()"
   ]
  },
  {
   "cell_type": "markdown",
   "id": "1491f334-3525-4326-bc3b-5e19198b7c89",
   "metadata": {},
   "source": [
    "## Build \"entries\" from the dataset\n",
    "\n",
    "An entry is a single data point object that hold a 3D atomistic system (also called a molecule). You can associate custom attributes to a given molecule."
   ]
  },
  {
   "cell_type": "code",
   "execution_count": 34,
   "id": "62bac149-bcb3-4aef-b3ec-e007c98e2a79",
   "metadata": {},
   "outputs": [
    {
     "data": {
      "application/vnd.jupyter.widget-view+json": {
       "model_id": "c31da97b38bd4d8083b5bdd938bda57b",
       "version_major": 2,
       "version_minor": 0
      },
      "text/plain": [
       "  0%|          | 0/2 [00:00<?, ?it/s]"
      ]
     },
     "metadata": {},
     "output_type": "display_data"
    },
    {
     "data": {
      "application/vnd.jupyter.widget-view+json": {
       "model_id": "",
       "version_major": 2,
       "version_minor": 0
      },
      "text/plain": [
       "  0%|          | 0/5 [00:00<?, ?it/s]"
      ]
     },
     "metadata": {},
     "output_type": "display_data"
    },
    {
     "data": {
      "application/vnd.jupyter.widget-view+json": {
       "model_id": "",
       "version_major": 2,
       "version_minor": 0
      },
      "text/plain": [
       "  0%|          | 0/5 [00:00<?, ?it/s]"
      ]
     },
     "metadata": {},
     "output_type": "display_data"
    }
   ],
   "source": [
    "chunk_size = 5\n",
    "progress = True\n",
    "progress_leave = False\n",
    "\n",
    "\n",
    "def _create_entry(i, row):\n",
    "    kwargs = {}\n",
    "    kwargs[\"name\"] = f\"mol_{i}\"\n",
    "    kwargs[\"molecule\"] = row[\"mol\"].to_qcschema()\n",
    "    kwargs[\"additional_keywords\"] = {}\n",
    "    kwargs[\"attributes\"] = row.drop(\"mol\").to_dict()\n",
    "    kwargs[\"comment\"] = None\n",
    "    return SinglepointDatasetNewEntry(**kwargs)\n",
    "\n",
    "\n",
    "# We build and send the entry by chunk in case of large dataset\n",
    "for i in tqdm(range(0, len(data), chunk_size)):\n",
    "    # Get the rows\n",
    "    rows = data.iloc[i : i + chunk_size]\n",
    "\n",
    "    # Build the entries\n",
    "    entries = dm.parallelized(\n",
    "        _create_entry,\n",
    "        rows.iterrows(),\n",
    "        arg_type=\"args\",\n",
    "        total=len(rows),\n",
    "        progress=progress,\n",
    "        tqdm_kwargs=dict(leave=progress_leave),\n",
    "    )\n",
    "\n",
    "    # Send the entries to the server\n",
    "    insert_md = ds.add_entries(entries)\n",
    "    assert insert_md.success"
   ]
  },
  {
   "cell_type": "markdown",
   "id": "7a3da19c-c38e-482d-ad45-1538f76f343f",
   "metadata": {},
   "source": [
    "You can check the newly submitted entries:"
   ]
  },
  {
   "cell_type": "code",
   "execution_count": 35,
   "id": "d72b8d6a-4907-461c-a4c2-e222a8f0765d",
   "metadata": {},
   "outputs": [
    {
     "data": {
      "text/plain": [
       "[SinglepointDatasetEntry(name='mol_0', molecule=Molecule(name='C5H5N', formula='C5H5N', hash='a6c6d91'), additional_keywords={}, attributes={'calc': -3.508, 'expt': -4.69, 'iupac': 'pyridine', 'smiles': 'c1ccncc1'}, comment=None, local_results=None),\n",
       " SinglepointDatasetEntry(name='mol_1', molecule=Molecule(name='C5H10O2', formula='C5H10O2', hash='7d0fe6d'), additional_keywords={}, attributes={'calc': -3.221, 'expt': -2.68, 'iupac': 'ethyl propanoate', 'smiles': 'CCC(=O)OCC'}, comment=None, local_results=None),\n",
       " SinglepointDatasetEntry(name='mol_2', molecule=Molecule(name='C6H7N', formula='C6H7N', hash='7739509'), additional_keywords={}, attributes={'calc': -3.501, 'expt': -4.63, 'iupac': '2-methylpyridine', 'smiles': 'Cc1ccccn1'}, comment=None, local_results=None),\n",
       " SinglepointDatasetEntry(name='mol_3', molecule=Molecule(name='C12Cl2H6O2', formula='C12Cl2H6O2', hash='c785c43'), additional_keywords={}, attributes={'calc': -3.59, 'expt': -3.56, 'iupac': '2,3-dichlorodibenzo-p-dioxin', 'smiles': 'c1ccc2c(c1)Oc3cc(c(cc3O2)Cl)Cl'}, comment=None, local_results=None),\n",
       " SinglepointDatasetEntry(name='mol_4', molecule=Molecule(name='C6H10O4', formula='C6H10O4', hash='7de2fa5'), additional_keywords={}, attributes={'calc': -8.006, 'expt': -4.97, 'iupac': '1-acetoxyethyl acetate', 'smiles': 'CC(OC(=O)C)OC(=O)C'}, comment=None, local_results=None),\n",
       " SinglepointDatasetEntry(name='mol_5', molecule=Molecule(name='C7H16', formula='C7H16', hash='31ac45a'), additional_keywords={}, attributes={'calc': 2.894, 'expt': 2.93, 'iupac': '2-methylhexane', 'smiles': 'CCCCC(C)C'}, comment=None, local_results=None),\n",
       " SinglepointDatasetEntry(name='mol_6', molecule=Molecule(name='C7ClH12N5', formula='C7ClH12N5', hash='ab02e52'), additional_keywords={}, attributes={'calc': -10.914, 'expt': -10.22, 'iupac': 'simazine', 'smiles': 'CCNc1nc(nc(n1)Cl)NCC'}, comment=None, local_results=None),\n",
       " SinglepointDatasetEntry(name='mol_7', molecule=Molecule(name='C6H15O4P', formula='C6H15O4P', hash='3f198c7'), additional_keywords={}, attributes={'calc': -10.251, 'expt': -7.5, 'iupac': 'triethylphosphate', 'smiles': 'CCOP(=O)(OCC)OCC'}, comment=None, local_results=None),\n",
       " SinglepointDatasetEntry(name='mol_8', molecule=Molecule(name='C6H12', formula='C6H12', hash='bc0c2a1'), additional_keywords={}, attributes={'calc': 1.785, 'expt': 1.59, 'iupac': 'methylcyclopentane', 'smiles': 'CC1CCCC1'}, comment=None, local_results=None),\n",
       " SinglepointDatasetEntry(name='mol_9', molecule=Molecule(name='C7H12', formula='C7H12', hash='f9566b0'), additional_keywords={}, attributes={'calc': 0.639, 'expt': 0.6, 'iupac': 'hept-1-yne', 'smiles': 'CCCCCC#C'}, comment=None, local_results=None)]"
      ]
     },
     "execution_count": 35,
     "metadata": {},
     "output_type": "execute_result"
    }
   ],
   "source": [
    "list(ds.iterate_entries())"
   ]
  },
  {
   "cell_type": "markdown",
   "id": "2e1c4534-614c-4771-b209-2a8939a54b08",
   "metadata": {},
   "source": [
    "## Create the QM specification\n",
    "\n",
    "The QM specification defines a QM protocol that will be executed on a Dataset.\n",
    "\n",
    "Here we choose a cheap level of theory: `hf/sto-3g`."
   ]
  },
  {
   "cell_type": "code",
   "execution_count": 36,
   "id": "1f18e9a3-7470-4593-af8a-67543c083448",
   "metadata": {},
   "outputs": [
    {
     "data": {
      "text/plain": [
       "QCSpecification(program='psi4', driver=<SinglepointDriver.gradient: 'gradient'>, method='hf', basis='sto-3g', keywords={'wcombine': False, 'scf_properties': ['MBIS_CHARGES', 'WIBERG_LOWDIN_INDICES', 'MAYER_INDICES', 'LOWDIN_CHARGES', 'DIPOLE', 'QUADRUPOLE']}, protocols=AtomicResultProtocols(wavefunction=<WavefunctionProtocolEnum.all: 'all'>, stdout=True, error_correction=ErrorCorrectionProtocol(default_policy=True, policies=None), native_files=<NativeFilesProtocolEnum.none: 'none'>))"
      ]
     },
     "execution_count": 36,
     "metadata": {},
     "output_type": "execute_result"
    }
   ],
   "source": [
    "## PSI4 SCF properties\n",
    "## See https://psicode.org/psi4manual/master/oeprop.html#id2\n",
    "scf_properties = [\n",
    "    \"MBIS_CHARGES\",\n",
    "    \"WIBERG_LOWDIN_INDICES\",\n",
    "    \"MAYER_INDICES\",\n",
    "    \"LOWDIN_CHARGES\",\n",
    "    \"DIPOLE\",\n",
    "    \"QUADRUPOLE\",\n",
    "]\n",
    "\n",
    "## Build the protocols\n",
    "## One of: all, none or orbitals_and_eigenvalues\n",
    "protocols = {\"wavefunction\": \"all\"}\n",
    "\n",
    "## Build the specification\n",
    "kwargs = {}\n",
    "kwargs[\"program\"] = \"psi4\"\n",
    "kwargs[\"driver\"] = SinglepointDriver.gradient\n",
    "# kwargs[\"method\"] = \"wb97m-d3bj\"\n",
    "# kwargs[\"basis\"] = \"def2-tzvppd\"\n",
    "kwargs[\"method\"] = \"hf\"\n",
    "kwargs[\"basis\"] = \"sto-3g\"\n",
    "kwargs[\"keywords\"] = {\"wcombine\": False, \"scf_properties\": scf_properties}\n",
    "kwargs[\"protocols\"] = protocols\n",
    "\n",
    "specification = QCSpecification(**kwargs)\n",
    "\n",
    "specification"
   ]
  },
  {
   "cell_type": "markdown",
   "id": "27562118-494b-4688-a5a7-119e19d69255",
   "metadata": {},
   "source": [
    "Now we associate this QM specification (protocol) to the dataset we created above to the server."
   ]
  },
  {
   "cell_type": "code",
   "execution_count": 37,
   "id": "ecd1dbfb-43e1-405f-917e-faab78447185",
   "metadata": {},
   "outputs": [],
   "source": [
    "kwargs = {}\n",
    "kwargs[\"name\"] = \"simple_qm_calculation_demo\"\n",
    "kwargs[\"specification\"] = specification\n",
    "kwargs[\"description\"] = None\n",
    "insert_md = ds.add_specification(**kwargs)\n",
    "assert insert_md"
   ]
  },
  {
   "cell_type": "code",
   "execution_count": 38,
   "id": "f4a07480-d3fc-46ef-80f4-ed95cae084f7",
   "metadata": {},
   "outputs": [
    {
     "data": {
      "text/plain": [
       "[SinglepointDatasetEntry(name='mol_0', molecule=Molecule(name='C5H5N', formula='C5H5N', hash='a6c6d91'), additional_keywords={}, attributes={'calc': -3.508, 'expt': -4.69, 'iupac': 'pyridine', 'smiles': 'c1ccncc1'}, comment=None, local_results=None),\n",
       " SinglepointDatasetEntry(name='mol_1', molecule=Molecule(name='C5H10O2', formula='C5H10O2', hash='7d0fe6d'), additional_keywords={}, attributes={'calc': -3.221, 'expt': -2.68, 'iupac': 'ethyl propanoate', 'smiles': 'CCC(=O)OCC'}, comment=None, local_results=None),\n",
       " SinglepointDatasetEntry(name='mol_2', molecule=Molecule(name='C6H7N', formula='C6H7N', hash='7739509'), additional_keywords={}, attributes={'calc': -3.501, 'expt': -4.63, 'iupac': '2-methylpyridine', 'smiles': 'Cc1ccccn1'}, comment=None, local_results=None),\n",
       " SinglepointDatasetEntry(name='mol_3', molecule=Molecule(name='C12Cl2H6O2', formula='C12Cl2H6O2', hash='c785c43'), additional_keywords={}, attributes={'calc': -3.59, 'expt': -3.56, 'iupac': '2,3-dichlorodibenzo-p-dioxin', 'smiles': 'c1ccc2c(c1)Oc3cc(c(cc3O2)Cl)Cl'}, comment=None, local_results=None),\n",
       " SinglepointDatasetEntry(name='mol_4', molecule=Molecule(name='C6H10O4', formula='C6H10O4', hash='7de2fa5'), additional_keywords={}, attributes={'calc': -8.006, 'expt': -4.97, 'iupac': '1-acetoxyethyl acetate', 'smiles': 'CC(OC(=O)C)OC(=O)C'}, comment=None, local_results=None),\n",
       " SinglepointDatasetEntry(name='mol_5', molecule=Molecule(name='C7H16', formula='C7H16', hash='31ac45a'), additional_keywords={}, attributes={'calc': 2.894, 'expt': 2.93, 'iupac': '2-methylhexane', 'smiles': 'CCCCC(C)C'}, comment=None, local_results=None),\n",
       " SinglepointDatasetEntry(name='mol_6', molecule=Molecule(name='C7ClH12N5', formula='C7ClH12N5', hash='ab02e52'), additional_keywords={}, attributes={'calc': -10.914, 'expt': -10.22, 'iupac': 'simazine', 'smiles': 'CCNc1nc(nc(n1)Cl)NCC'}, comment=None, local_results=None),\n",
       " SinglepointDatasetEntry(name='mol_7', molecule=Molecule(name='C6H15O4P', formula='C6H15O4P', hash='3f198c7'), additional_keywords={}, attributes={'calc': -10.251, 'expt': -7.5, 'iupac': 'triethylphosphate', 'smiles': 'CCOP(=O)(OCC)OCC'}, comment=None, local_results=None),\n",
       " SinglepointDatasetEntry(name='mol_8', molecule=Molecule(name='C6H12', formula='C6H12', hash='bc0c2a1'), additional_keywords={}, attributes={'calc': 1.785, 'expt': 1.59, 'iupac': 'methylcyclopentane', 'smiles': 'CC1CCCC1'}, comment=None, local_results=None),\n",
       " SinglepointDatasetEntry(name='mol_9', molecule=Molecule(name='C7H12', formula='C7H12', hash='f9566b0'), additional_keywords={}, attributes={'calc': 0.639, 'expt': 0.6, 'iupac': 'hept-1-yne', 'smiles': 'CCCCCC#C'}, comment=None, local_results=None)]"
      ]
     },
     "execution_count": 38,
     "metadata": {},
     "output_type": "execute_result"
    }
   ],
   "source": [
    "list(ds.iterate_entries())"
   ]
  },
  {
   "cell_type": "markdown",
   "id": "6751a3c7-4d87-4939-a127-5f120d87d80e",
   "metadata": {},
   "source": [
    "## Submit the computation\n",
    "\n",
    "**Warning: once you have submitted a specification to a dataset, the compatible managers will start picking up jobs and perform the QM calculcations.**"
   ]
  },
  {
   "cell_type": "code",
   "execution_count": 39,
   "id": "14933915-8cdc-4686-b6e8-39e3476b145a",
   "metadata": {},
   "outputs": [],
   "source": [
    "ds.submit()"
   ]
  },
  {
   "cell_type": "markdown",
   "id": "7cfa989f-af2e-4460-89c2-aa54b0b43edd",
   "metadata": {},
   "source": [
    "Check the submission worked."
   ]
  },
  {
   "cell_type": "code",
   "execution_count": 63,
   "id": "da07984f-620f-4bdd-8843-f9791309a2fe",
   "metadata": {},
   "outputs": [
    {
     "name": "stdout",
     "output_type": "stream",
     "text": [
      "             specification    complete    running\n",
      "--------------------------  ----------  ---------\n",
      "simple_qm_calculation_demo           4          6\n"
     ]
    }
   ],
   "source": [
    "print(ds.status_table())"
   ]
  },
  {
   "cell_type": "markdown",
   "id": "4e980dc2-dfa7-4049-987a-b2420b067dfa",
   "metadata": {},
   "source": [
    "## Monitoring"
   ]
  },
  {
   "cell_type": "markdown",
   "id": "16e01af1-d6f3-49a1-9608-a6f54ac3c05d",
   "metadata": {},
   "source": [
    "Retrieve a dataset by its name."
   ]
  },
  {
   "cell_type": "code",
   "execution_count": 41,
   "id": "0a30a5c0-cee4-4b8a-88fc-caea9755450a",
   "metadata": {},
   "outputs": [
    {
     "data": {
      "text/plain": [
       "SinglepointDataset(id=5, dataset_type='singlepoint', name='dataset_demo_4321690179', description='my great dataset!', tagline='', tags=['demo_tutorial'], group='default', visibility=True, provenance={}, default_tag='demo_tutorial', default_priority=<PriorityEnum.normal: 1>, owner_user='admin_default', owner_group=None, metadata={}, extras={}, entry_names_=[], specifications_={}, entries_={}, record_map_={}, contributed_values_=None, auto_fetch_missing=True)"
      ]
     },
     "execution_count": 41,
     "metadata": {},
     "output_type": "execute_result"
    }
   ],
   "source": [
    "ds = client.get_dataset(\"singlepoint\", dataset_name)\n",
    "ds"
   ]
  },
  {
   "cell_type": "markdown",
   "id": "c73d3f45-018e-4e8c-9ead-bab48f3531d6",
   "metadata": {},
   "source": [
    "Print a table showing the status for a dataset."
   ]
  },
  {
   "cell_type": "code",
   "execution_count": 62,
   "id": "2582131e-63a7-4f53-b6ef-c740e654651a",
   "metadata": {},
   "outputs": [
    {
     "name": "stdout",
     "output_type": "stream",
     "text": [
      "             specification    complete    running\n",
      "--------------------------  ----------  ---------\n",
      "simple_qm_calculation_demo           2          8\n"
     ]
    }
   ],
   "source": [
    "print(ds.status_table())"
   ]
  },
  {
   "cell_type": "markdown",
   "id": "2ea4c7b8-32f2-42bf-8b94-16ccb5c61b8d",
   "metadata": {},
   "source": [
    "Read the records (some might be completed but some might still be in progress or in failing state."
   ]
  },
  {
   "cell_type": "code",
   "execution_count": 57,
   "id": "fe77233b-5953-4202-aaad-b11ceceeeb69",
   "metadata": {},
   "outputs": [
    {
     "data": {
      "application/vnd.jupyter.widget-view+json": {
       "model_id": "936a93f6c98146f1be074a33fb54e8e1",
       "version_major": 2,
       "version_minor": 0
      },
      "text/plain": [
       "0it [00:00, ?it/s]"
      ]
     },
     "metadata": {},
     "output_type": "display_data"
    },
    {
     "data": {
      "text/html": [
       "<div>\n",
       "<style scoped>\n",
       "    .dataframe tbody tr th:only-of-type {\n",
       "        vertical-align: middle;\n",
       "    }\n",
       "\n",
       "    .dataframe tbody tr th {\n",
       "        vertical-align: top;\n",
       "    }\n",
       "\n",
       "    .dataframe thead th {\n",
       "        text-align: right;\n",
       "    }\n",
       "</style>\n",
       "<table border=\"1\" class=\"dataframe\">\n",
       "  <thead>\n",
       "    <tr style=\"text-align: right;\">\n",
       "      <th></th>\n",
       "      <th>id</th>\n",
       "      <th>record_type</th>\n",
       "      <th>is_service</th>\n",
       "      <th>properties</th>\n",
       "      <th>extras</th>\n",
       "      <th>status</th>\n",
       "      <th>manager_name</th>\n",
       "      <th>created_on</th>\n",
       "      <th>modified_on</th>\n",
       "      <th>owner_user</th>\n",
       "      <th>owner_group</th>\n",
       "      <th>compute_history_</th>\n",
       "      <th>task_</th>\n",
       "      <th>service_</th>\n",
       "      <th>comments_</th>\n",
       "      <th>native_files_</th>\n",
       "      <th>specification</th>\n",
       "      <th>molecule_id</th>\n",
       "      <th>molecule_</th>\n",
       "      <th>wavefunction_</th>\n",
       "    </tr>\n",
       "  </thead>\n",
       "  <tbody>\n",
       "    <tr>\n",
       "      <th>0</th>\n",
       "      <td>15</td>\n",
       "      <td>singlepoint</td>\n",
       "      <td>False</td>\n",
       "      <td>{'pe energy': 0.0, 'scf dipole': [-0.000133218...</td>\n",
       "      <td>{}</td>\n",
       "      <td>RecordStatusEnum.complete</td>\n",
       "      <td>manager_hadrien_local_1-gollum-ef38f2ac-b99a-4...</td>\n",
       "      <td>2023-06-23 00:01:50.894704</td>\n",
       "      <td>2023-06-23 00:03:46.557663</td>\n",
       "      <td>admin_default</td>\n",
       "      <td>None</td>\n",
       "      <td>[{'id': 15, 'record_id': 15, 'status': 'Record...</td>\n",
       "      <td>None</td>\n",
       "      <td>None</td>\n",
       "      <td>None</td>\n",
       "      <td>None</td>\n",
       "      <td>{'program': 'psi4', 'driver': 'SinglepointDriv...</td>\n",
       "      <td>24</td>\n",
       "      <td>None</td>\n",
       "      <td>None</td>\n",
       "    </tr>\n",
       "    <tr>\n",
       "      <th>1</th>\n",
       "      <td>52</td>\n",
       "      <td>singlepoint</td>\n",
       "      <td>False</td>\n",
       "      <td>{'pe energy': 0.0, 'scf dipole': [0.1806203110...</td>\n",
       "      <td>{}</td>\n",
       "      <td>RecordStatusEnum.complete</td>\n",
       "      <td>manager_hadrien_local_1-gollum-ef38f2ac-b99a-4...</td>\n",
       "      <td>2023-06-23 00:01:50.894737</td>\n",
       "      <td>2023-06-23 00:06:23.031904</td>\n",
       "      <td>admin_default</td>\n",
       "      <td>None</td>\n",
       "      <td>[{'id': 52, 'record_id': 52, 'status': 'Record...</td>\n",
       "      <td>None</td>\n",
       "      <td>None</td>\n",
       "      <td>None</td>\n",
       "      <td>None</td>\n",
       "      <td>{'program': 'psi4', 'driver': 'SinglepointDriv...</td>\n",
       "      <td>37</td>\n",
       "      <td>None</td>\n",
       "      <td>None</td>\n",
       "    </tr>\n",
       "    <tr>\n",
       "      <th>2</th>\n",
       "      <td>269</td>\n",
       "      <td>singlepoint</td>\n",
       "      <td>False</td>\n",
       "      <td>None</td>\n",
       "      <td>None</td>\n",
       "      <td>RecordStatusEnum.running</td>\n",
       "      <td>manager_hadrien_local_1-boromir-eb6f7b1c-7db1-...</td>\n",
       "      <td>2023-06-23 13:09:57.599294</td>\n",
       "      <td>2023-06-23 13:10:14.774596</td>\n",
       "      <td>admin_default</td>\n",
       "      <td>None</td>\n",
       "      <td>[]</td>\n",
       "      <td>None</td>\n",
       "      <td>None</td>\n",
       "      <td>None</td>\n",
       "      <td>None</td>\n",
       "      <td>{'program': 'psi4', 'driver': 'SinglepointDriv...</td>\n",
       "      <td>131</td>\n",
       "      <td>None</td>\n",
       "      <td>None</td>\n",
       "    </tr>\n",
       "    <tr>\n",
       "      <th>3</th>\n",
       "      <td>270</td>\n",
       "      <td>singlepoint</td>\n",
       "      <td>False</td>\n",
       "      <td>None</td>\n",
       "      <td>None</td>\n",
       "      <td>RecordStatusEnum.running</td>\n",
       "      <td>manager_hadrien_local_1-boromir-eb6f7b1c-7db1-...</td>\n",
       "      <td>2023-06-23 13:09:57.599299</td>\n",
       "      <td>2023-06-23 13:10:14.774608</td>\n",
       "      <td>admin_default</td>\n",
       "      <td>None</td>\n",
       "      <td>[]</td>\n",
       "      <td>None</td>\n",
       "      <td>None</td>\n",
       "      <td>None</td>\n",
       "      <td>None</td>\n",
       "      <td>{'program': 'psi4', 'driver': 'SinglepointDriv...</td>\n",
       "      <td>127</td>\n",
       "      <td>None</td>\n",
       "      <td>None</td>\n",
       "    </tr>\n",
       "    <tr>\n",
       "      <th>4</th>\n",
       "      <td>271</td>\n",
       "      <td>singlepoint</td>\n",
       "      <td>False</td>\n",
       "      <td>None</td>\n",
       "      <td>None</td>\n",
       "      <td>RecordStatusEnum.running</td>\n",
       "      <td>manager_hadrien_local_1-boromir-eb6f7b1c-7db1-...</td>\n",
       "      <td>2023-06-23 13:09:57.599300</td>\n",
       "      <td>2023-06-23 13:10:14.774614</td>\n",
       "      <td>admin_default</td>\n",
       "      <td>None</td>\n",
       "      <td>[]</td>\n",
       "      <td>None</td>\n",
       "      <td>None</td>\n",
       "      <td>None</td>\n",
       "      <td>None</td>\n",
       "      <td>{'program': 'psi4', 'driver': 'SinglepointDriv...</td>\n",
       "      <td>130</td>\n",
       "      <td>None</td>\n",
       "      <td>None</td>\n",
       "    </tr>\n",
       "    <tr>\n",
       "      <th>5</th>\n",
       "      <td>272</td>\n",
       "      <td>singlepoint</td>\n",
       "      <td>False</td>\n",
       "      <td>None</td>\n",
       "      <td>None</td>\n",
       "      <td>RecordStatusEnum.running</td>\n",
       "      <td>manager_hadrien_local_1-boromir-eb6f7b1c-7db1-...</td>\n",
       "      <td>2023-06-23 13:09:57.599301</td>\n",
       "      <td>2023-06-23 13:10:14.774620</td>\n",
       "      <td>admin_default</td>\n",
       "      <td>None</td>\n",
       "      <td>[]</td>\n",
       "      <td>None</td>\n",
       "      <td>None</td>\n",
       "      <td>None</td>\n",
       "      <td>None</td>\n",
       "      <td>{'program': 'psi4', 'driver': 'SinglepointDriv...</td>\n",
       "      <td>133</td>\n",
       "      <td>None</td>\n",
       "      <td>None</td>\n",
       "    </tr>\n",
       "    <tr>\n",
       "      <th>6</th>\n",
       "      <td>273</td>\n",
       "      <td>singlepoint</td>\n",
       "      <td>False</td>\n",
       "      <td>None</td>\n",
       "      <td>None</td>\n",
       "      <td>RecordStatusEnum.running</td>\n",
       "      <td>manager_hadrien_local_1-boromir-eb6f7b1c-7db1-...</td>\n",
       "      <td>2023-06-23 13:09:57.599302</td>\n",
       "      <td>2023-06-23 13:10:14.774626</td>\n",
       "      <td>admin_default</td>\n",
       "      <td>None</td>\n",
       "      <td>[]</td>\n",
       "      <td>None</td>\n",
       "      <td>None</td>\n",
       "      <td>None</td>\n",
       "      <td>None</td>\n",
       "      <td>{'program': 'psi4', 'driver': 'SinglepointDriv...</td>\n",
       "      <td>129</td>\n",
       "      <td>None</td>\n",
       "      <td>None</td>\n",
       "    </tr>\n",
       "    <tr>\n",
       "      <th>7</th>\n",
       "      <td>274</td>\n",
       "      <td>singlepoint</td>\n",
       "      <td>False</td>\n",
       "      <td>None</td>\n",
       "      <td>None</td>\n",
       "      <td>RecordStatusEnum.running</td>\n",
       "      <td>manager_hadrien_local_1-boromir-eb6f7b1c-7db1-...</td>\n",
       "      <td>2023-06-23 13:09:57.599303</td>\n",
       "      <td>2023-06-23 13:10:14.774632</td>\n",
       "      <td>admin_default</td>\n",
       "      <td>None</td>\n",
       "      <td>[]</td>\n",
       "      <td>None</td>\n",
       "      <td>None</td>\n",
       "      <td>None</td>\n",
       "      <td>None</td>\n",
       "      <td>{'program': 'psi4', 'driver': 'SinglepointDriv...</td>\n",
       "      <td>126</td>\n",
       "      <td>None</td>\n",
       "      <td>None</td>\n",
       "    </tr>\n",
       "    <tr>\n",
       "      <th>8</th>\n",
       "      <td>275</td>\n",
       "      <td>singlepoint</td>\n",
       "      <td>False</td>\n",
       "      <td>None</td>\n",
       "      <td>None</td>\n",
       "      <td>RecordStatusEnum.running</td>\n",
       "      <td>manager_hadrien_local_1-boromir-eb6f7b1c-7db1-...</td>\n",
       "      <td>2023-06-23 13:09:57.599303</td>\n",
       "      <td>2023-06-23 13:10:14.774638</td>\n",
       "      <td>admin_default</td>\n",
       "      <td>None</td>\n",
       "      <td>[]</td>\n",
       "      <td>None</td>\n",
       "      <td>None</td>\n",
       "      <td>None</td>\n",
       "      <td>None</td>\n",
       "      <td>{'program': 'psi4', 'driver': 'SinglepointDriv...</td>\n",
       "      <td>132</td>\n",
       "      <td>None</td>\n",
       "      <td>None</td>\n",
       "    </tr>\n",
       "    <tr>\n",
       "      <th>9</th>\n",
       "      <td>276</td>\n",
       "      <td>singlepoint</td>\n",
       "      <td>False</td>\n",
       "      <td>None</td>\n",
       "      <td>None</td>\n",
       "      <td>RecordStatusEnum.running</td>\n",
       "      <td>manager_hadrien_local_1-boromir-eb6f7b1c-7db1-...</td>\n",
       "      <td>2023-06-23 13:09:57.599304</td>\n",
       "      <td>2023-06-23 13:10:14.774644</td>\n",
       "      <td>admin_default</td>\n",
       "      <td>None</td>\n",
       "      <td>[]</td>\n",
       "      <td>None</td>\n",
       "      <td>None</td>\n",
       "      <td>None</td>\n",
       "      <td>None</td>\n",
       "      <td>{'program': 'psi4', 'driver': 'SinglepointDriv...</td>\n",
       "      <td>128</td>\n",
       "      <td>None</td>\n",
       "      <td>None</td>\n",
       "    </tr>\n",
       "  </tbody>\n",
       "</table>\n",
       "</div>"
      ],
      "text/plain": [
       "    id  record_type  is_service  \\\n",
       "0   15  singlepoint       False   \n",
       "1   52  singlepoint       False   \n",
       "2  269  singlepoint       False   \n",
       "3  270  singlepoint       False   \n",
       "4  271  singlepoint       False   \n",
       "5  272  singlepoint       False   \n",
       "6  273  singlepoint       False   \n",
       "7  274  singlepoint       False   \n",
       "8  275  singlepoint       False   \n",
       "9  276  singlepoint       False   \n",
       "\n",
       "                                          properties extras  \\\n",
       "0  {'pe energy': 0.0, 'scf dipole': [-0.000133218...     {}   \n",
       "1  {'pe energy': 0.0, 'scf dipole': [0.1806203110...     {}   \n",
       "2                                               None   None   \n",
       "3                                               None   None   \n",
       "4                                               None   None   \n",
       "5                                               None   None   \n",
       "6                                               None   None   \n",
       "7                                               None   None   \n",
       "8                                               None   None   \n",
       "9                                               None   None   \n",
       "\n",
       "                      status  \\\n",
       "0  RecordStatusEnum.complete   \n",
       "1  RecordStatusEnum.complete   \n",
       "2   RecordStatusEnum.running   \n",
       "3   RecordStatusEnum.running   \n",
       "4   RecordStatusEnum.running   \n",
       "5   RecordStatusEnum.running   \n",
       "6   RecordStatusEnum.running   \n",
       "7   RecordStatusEnum.running   \n",
       "8   RecordStatusEnum.running   \n",
       "9   RecordStatusEnum.running   \n",
       "\n",
       "                                        manager_name  \\\n",
       "0  manager_hadrien_local_1-gollum-ef38f2ac-b99a-4...   \n",
       "1  manager_hadrien_local_1-gollum-ef38f2ac-b99a-4...   \n",
       "2  manager_hadrien_local_1-boromir-eb6f7b1c-7db1-...   \n",
       "3  manager_hadrien_local_1-boromir-eb6f7b1c-7db1-...   \n",
       "4  manager_hadrien_local_1-boromir-eb6f7b1c-7db1-...   \n",
       "5  manager_hadrien_local_1-boromir-eb6f7b1c-7db1-...   \n",
       "6  manager_hadrien_local_1-boromir-eb6f7b1c-7db1-...   \n",
       "7  manager_hadrien_local_1-boromir-eb6f7b1c-7db1-...   \n",
       "8  manager_hadrien_local_1-boromir-eb6f7b1c-7db1-...   \n",
       "9  manager_hadrien_local_1-boromir-eb6f7b1c-7db1-...   \n",
       "\n",
       "                  created_on                modified_on     owner_user  \\\n",
       "0 2023-06-23 00:01:50.894704 2023-06-23 00:03:46.557663  admin_default   \n",
       "1 2023-06-23 00:01:50.894737 2023-06-23 00:06:23.031904  admin_default   \n",
       "2 2023-06-23 13:09:57.599294 2023-06-23 13:10:14.774596  admin_default   \n",
       "3 2023-06-23 13:09:57.599299 2023-06-23 13:10:14.774608  admin_default   \n",
       "4 2023-06-23 13:09:57.599300 2023-06-23 13:10:14.774614  admin_default   \n",
       "5 2023-06-23 13:09:57.599301 2023-06-23 13:10:14.774620  admin_default   \n",
       "6 2023-06-23 13:09:57.599302 2023-06-23 13:10:14.774626  admin_default   \n",
       "7 2023-06-23 13:09:57.599303 2023-06-23 13:10:14.774632  admin_default   \n",
       "8 2023-06-23 13:09:57.599303 2023-06-23 13:10:14.774638  admin_default   \n",
       "9 2023-06-23 13:09:57.599304 2023-06-23 13:10:14.774644  admin_default   \n",
       "\n",
       "  owner_group                                   compute_history_ task_  \\\n",
       "0        None  [{'id': 15, 'record_id': 15, 'status': 'Record...  None   \n",
       "1        None  [{'id': 52, 'record_id': 52, 'status': 'Record...  None   \n",
       "2        None                                                 []  None   \n",
       "3        None                                                 []  None   \n",
       "4        None                                                 []  None   \n",
       "5        None                                                 []  None   \n",
       "6        None                                                 []  None   \n",
       "7        None                                                 []  None   \n",
       "8        None                                                 []  None   \n",
       "9        None                                                 []  None   \n",
       "\n",
       "  service_ comments_ native_files_  \\\n",
       "0     None      None          None   \n",
       "1     None      None          None   \n",
       "2     None      None          None   \n",
       "3     None      None          None   \n",
       "4     None      None          None   \n",
       "5     None      None          None   \n",
       "6     None      None          None   \n",
       "7     None      None          None   \n",
       "8     None      None          None   \n",
       "9     None      None          None   \n",
       "\n",
       "                                       specification  molecule_id molecule_  \\\n",
       "0  {'program': 'psi4', 'driver': 'SinglepointDriv...           24      None   \n",
       "1  {'program': 'psi4', 'driver': 'SinglepointDriv...           37      None   \n",
       "2  {'program': 'psi4', 'driver': 'SinglepointDriv...          131      None   \n",
       "3  {'program': 'psi4', 'driver': 'SinglepointDriv...          127      None   \n",
       "4  {'program': 'psi4', 'driver': 'SinglepointDriv...          130      None   \n",
       "5  {'program': 'psi4', 'driver': 'SinglepointDriv...          133      None   \n",
       "6  {'program': 'psi4', 'driver': 'SinglepointDriv...          129      None   \n",
       "7  {'program': 'psi4', 'driver': 'SinglepointDriv...          126      None   \n",
       "8  {'program': 'psi4', 'driver': 'SinglepointDriv...          132      None   \n",
       "9  {'program': 'psi4', 'driver': 'SinglepointDriv...          128      None   \n",
       "\n",
       "  wavefunction_  \n",
       "0          None  \n",
       "1          None  \n",
       "2          None  \n",
       "3          None  \n",
       "4          None  \n",
       "5          None  \n",
       "6          None  \n",
       "7          None  \n",
       "8          None  \n",
       "9          None  "
      ]
     },
     "execution_count": 57,
     "metadata": {},
     "output_type": "execute_result"
    }
   ],
   "source": [
    "records_list = []\n",
    "for r in tqdm(client.query_records(dataset_id=ds.id)):\n",
    "    # Access this object to fetch the potential errors when any\n",
    "    r.error\n",
    "    records_list.append(r.dict())\n",
    "\n",
    "records = pd.DataFrame(records_list)\n",
    "records = records.sort_values(\"id\")\n",
    "records = records.reset_index(drop=True)\n",
    "\n",
    "records"
   ]
  },
  {
   "cell_type": "markdown",
   "id": "f5febe8e-20da-470c-acc4-6a4f2644b283",
   "metadata": {},
   "source": [
    "## Delete a dataset and associated records\n",
    "\n",
    "**Important:** Before deleting the dataset you just created, you should check the other tutorials where you'll learn how to launch a manager than can perform the QM calculations submitted above!"
   ]
  },
  {
   "cell_type": "markdown",
   "id": "baf387a8-5c30-476f-a714-7d496d0af304",
   "metadata": {},
   "source": [
    "Retrieve the ID of a given dataset."
   ]
  },
  {
   "cell_type": "code",
   "execution_count": 6,
   "id": "fb519f88-6985-490b-a385-c00468b46ac0",
   "metadata": {},
   "outputs": [
    {
     "data": {
      "text/plain": [
       "[{'id': 1, 'dataset_type': 'singlepoint', 'dataset_name': 'dataset_1'},\n",
       " {'id': 3, 'dataset_type': 'singlepoint', 'dataset_name': 'dataset_2'}]"
      ]
     },
     "execution_count": 6,
     "metadata": {},
     "output_type": "execute_result"
    }
   ],
   "source": [
    "client.list_datasets()"
   ]
  },
  {
   "cell_type": "code",
   "execution_count": 4,
   "id": "2d1086b8-bfc6-4609-a984-06aa95c2357f",
   "metadata": {},
   "outputs": [
    {
     "data": {
      "text/plain": [
       "5"
      ]
     },
     "execution_count": 4,
     "metadata": {},
     "output_type": "execute_result"
    }
   ],
   "source": [
    "dataset_id = client.get_dataset(\"singlepoint\", \"dataset_demo_4321690179\").id\n",
    "dataset_id"
   ]
  },
  {
   "cell_type": "markdown",
   "id": "51c29fc3-6db9-4255-bf04-8c99a828863b",
   "metadata": {},
   "source": [
    "Delete the dataset and its associated records.\n",
    "\n",
    "**Warning: this step can't be reversed.**"
   ]
  },
  {
   "cell_type": "code",
   "execution_count": 5,
   "id": "f180b2d9-1084-4f71-a6f3-383cb9fd8d2c",
   "metadata": {},
   "outputs": [],
   "source": [
    "client.delete_dataset(dataset_id, delete_records=True)"
   ]
  },
  {
   "cell_type": "code",
   "execution_count": null,
   "id": "7bf16e01-e5de-4aca-b3a1-f3fc668679e4",
   "metadata": {},
   "outputs": [],
   "source": []
  }
 ],
 "metadata": {
  "kernelspec": {
   "display_name": "Python [conda env:openfractal]",
   "language": "python",
   "name": "conda-env-openfractal-py"
  },
  "language_info": {
   "codemirror_mode": {
    "name": "ipython",
    "version": 3
   },
   "file_extension": ".py",
   "mimetype": "text/x-python",
   "name": "python",
   "nbconvert_exporter": "python",
   "pygments_lexer": "ipython3",
   "version": "3.11.4"
  },
  "widgets": {
   "application/vnd.jupyter.widget-state+json": {
    "state": {},
    "version_major": 2,
    "version_minor": 0
   }
  }
 },
 "nbformat": 4,
 "nbformat_minor": 5
}
