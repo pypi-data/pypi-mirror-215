{
 "cells": [
  {
   "cell_type": "markdown",
   "id": "fb302dc9-65c4-41b0-b8d3-865c0f7845a7",
   "metadata": {},
   "source": [
    "# Array Displays\n",
    "\n",
    "Like `CameraDisplays`, ctapipe provides a way to display information related to the array on the ground: `ArrayDisplay`"
   ]
  },
  {
   "cell_type": "code",
   "execution_count": null,
   "id": "1217a94e-f541-4dfe-8f4f-ec9dd70296fd",
   "metadata": {
    "tags": []
   },
   "outputs": [],
   "source": [
    "from ctapipe.visualization import ArrayDisplay\n",
    "from ctapipe.instrument import SubarrayDescription\n",
    "from ctapipe.coordinates import GroundFrame, EastingNorthingFrame\n",
    "from ctapipe.containers import HillasParametersContainer\n",
    "\n",
    "from astropy.coordinates import SkyCoord\n",
    "from astropy import units as u\n",
    "\n",
    "import matplotlib.pyplot as plt\n",
    "import numpy as np\n",
    "\n",
    "plt.rcParams[\"figure.figsize\"] = (8, 6)"
   ]
  },
  {
   "cell_type": "code",
   "execution_count": null,
   "id": "c7c6775d-ce49-4d83-a3c6-e7f5ed55abfd",
   "metadata": {
    "tags": []
   },
   "outputs": [],
   "source": [
    "tel_ids = list(range(1, 5)) + list(range(5, 20))  # just LSTs  + one set of MSTs\n",
    "\n",
    "subarray = SubarrayDescription.read(\n",
    "    \"dataset://gamma_20deg_0deg_run1___cta-prod5-lapalma_desert-2158m-LaPalma-dark_100evts.simtel.zst\"\n",
    ").select_subarray(tel_ids)"
   ]
  },
  {
   "cell_type": "markdown",
   "id": "d3b103fc-6b8c-4233-939a-09c5f5d0e60d",
   "metadata": {},
   "source": [
    "An array display is created for example in `subarray.peek()`:"
   ]
  },
  {
   "cell_type": "code",
   "execution_count": null,
   "id": "a32c4646-9c74-4665-bfaa-81aa1de88dc8",
   "metadata": {
    "tags": []
   },
   "outputs": [],
   "source": [
    "subarray.peek()"
   ]
  },
  {
   "cell_type": "markdown",
   "id": "a27ed92a-268c-404c-8b96-039a739ea26a",
   "metadata": {},
   "source": [
    "However, you can make one manually with a bit more flexibility:"
   ]
  },
  {
   "cell_type": "markdown",
   "id": "503dea3f-fff3-4cd2-b938-c0d524a6069c",
   "metadata": {},
   "source": [
    "## Constructing an ArrayDisplay"
   ]
  },
  {
   "cell_type": "code",
   "execution_count": null,
   "id": "e27d5c28-dfc7-424b-b511-bcb0a1f35729",
   "metadata": {
    "tags": []
   },
   "outputs": [],
   "source": [
    "disp = ArrayDisplay(subarray)"
   ]
  },
  {
   "cell_type": "markdown",
   "id": "ea297d1c-4777-4945-81d0-e7807605b742",
   "metadata": {},
   "source": [
    "You can specify the Frame you want as long as it is compatible with `GroundFrame`.  `EastingNorthingFrame` is probably the most useful.  You can also add telescope labels"
   ]
  },
  {
   "cell_type": "code",
   "execution_count": null,
   "id": "46acf3bd-6cf3-42bb-8a76-163b44d3cc23",
   "metadata": {
    "tags": []
   },
   "outputs": [],
   "source": [
    "disp = ArrayDisplay(subarray, frame=EastingNorthingFrame())\n",
    "disp.add_labels()"
   ]
  },
  {
   "cell_type": "markdown",
   "id": "2925e1f6-eb29-43a7-bda1-c647424e7cf7",
   "metadata": {},
   "source": [
    "## Using color to show information \n",
    "\n",
    "By default the color  of the telescope circles correlates to telescope type. However, you can use color to convey other information  by setting the `values` attribute, like a trigger pattern"
   ]
  },
  {
   "cell_type": "code",
   "execution_count": null,
   "id": "141ef1eb-82ca-4e45-a3ae-2b11828c601c",
   "metadata": {
    "tags": []
   },
   "outputs": [],
   "source": [
    "plt.set_cmap(\"rainbow\")  # the array display will use the current colormap for values\n",
    "\n",
    "ad = ArrayDisplay(subarray)\n",
    "ad.telescopes.set_linewidth(0)  # to turn off the telescope borders\n",
    "\n",
    "trigger_pattern = np.zeros(subarray.n_tels)\n",
    "trigger_pattern[\n",
    "    [\n",
    "        1,\n",
    "        4,\n",
    "        5,\n",
    "        6,\n",
    "    ]\n",
    "] = 1\n",
    "ad.values = trigger_pattern  # display certain telescopes in a color\n",
    "ad.add_labels()"
   ]
  },
  {
   "cell_type": "markdown",
   "id": "a2c0cec8-46b8-4ea4-b4a5-70d943ed474c",
   "metadata": {},
   "source": [
    "or for example, you could use color to represent the telescope distance to the impact point"
   ]
  },
  {
   "cell_type": "code",
   "execution_count": null,
   "id": "8422c9da-df65-44c4-b8bf-da49d95b16fb",
   "metadata": {
    "tags": []
   },
   "outputs": [],
   "source": [
    "shower_impact = SkyCoord(200 * u.m, -200 * u.m, 0 * u.m, frame=EastingNorthingFrame())"
   ]
  },
  {
   "cell_type": "code",
   "execution_count": null,
   "id": "e9e87e72-d000-4c14-99eb-665849d83e56",
   "metadata": {
    "tags": []
   },
   "outputs": [],
   "source": [
    "plt.set_cmap(\"rainbow\")  # the array display will use the current colormap for values\n",
    "ad = ArrayDisplay(subarray)\n",
    "ad.telescopes.set_linewidth(0)  # to turn off the telescope borders\n",
    "plt.scatter(shower_impact.easting, shower_impact.northing, marker=\"+\", s=200)\n",
    "\n",
    "distances = np.hypot(\n",
    "    subarray.tel_coords.cartesian.x - shower_impact.cartesian.x,\n",
    "    subarray.tel_coords.cartesian.y - shower_impact.cartesian.y,\n",
    ")\n",
    "ad.values = distances\n",
    "plt.colorbar(ad.telescopes, label=\"Distance (m)\")"
   ]
  },
  {
   "cell_type": "markdown",
   "id": "359935df-f551-40cf-8432-b191986c8213",
   "metadata": {},
   "source": [
    "## Overlaying vectors\n",
    "\n",
    "For plotting reconstruction quantities, it's useful to overlay vectors on the telescope positions. `ArrayDisplay` provides functions:\n",
    "* `set_vector_uv` to set by cartesian coordinates from the center of each telescope\n",
    "* `set_vector_rho_phi` to set by polar coorinates from the center of each telescope\n",
    "* `set_vector_hillas` to set vectors from a `dict[int,HillasParameters]` mapping tel_id (not index!) to a set of parameters. "
   ]
  },
  {
   "cell_type": "code",
   "execution_count": null,
   "id": "040a0f4c-ffee-4a25-a419-7d90f5f16a6f",
   "metadata": {
    "tags": []
   },
   "outputs": [],
   "source": [
    "np.random.seed(0)\n",
    "phis = np.random.uniform(0, 180.0, size=subarray.n_tels) * u.deg\n",
    "rhos = np.ones(subarray.n_tels) * 200 * u.m\n",
    "\n",
    "\n",
    "ad = ArrayDisplay(subarray, frame=EastingNorthingFrame(), tel_scale=2)\n",
    "ad.set_vector_rho_phi(rho=rhos, phi=phis)"
   ]
  },
  {
   "cell_type": "markdown",
   "id": "980be561-28f6-41e6-94cd-ec19d260fe3b",
   "metadata": {
    "tags": []
   },
   "source": [
    "## Overlaying Image Axes\n",
    "\n",
    "For the common use case of plotting image axis on an `ArrayDisplay`, the `set_line_hillas()` method is provided for convenience. The following example shows its use: "
   ]
  },
  {
   "cell_type": "code",
   "execution_count": null,
   "id": "cb0b242c-4fc4-48ff-b8f2-2d57b852deea",
   "metadata": {
    "tags": []
   },
   "outputs": [],
   "source": [
    "import matplotlib.pyplot as plt\n",
    "from astropy.coordinates import SkyCoord\n",
    "from ctapipe.calib import CameraCalibrator\n",
    "from ctapipe.image import ImageProcessor\n",
    "from ctapipe.io import EventSource\n",
    "from ctapipe.reco import ShowerProcessor\n",
    "from ctapipe.utils import get_dataset_path\n",
    "from ctapipe.visualization import ArrayDisplay\n",
    "from IPython import display\n",
    "from matplotlib.animation import FuncAnimation\n",
    "\n",
    "input_url = \"dataset://gamma_LaPalma_baseline_20Zd_180Az_prod3b_test.simtel.gz\""
   ]
  },
  {
   "cell_type": "markdown",
   "id": "f073a3a5-5db3-43fa-8734-deea0de7b7b4",
   "metadata": {
    "tags": []
   },
   "source": [
    "First, we define a function to plot the array with overlaid lines for the image axes"
   ]
  },
  {
   "cell_type": "code",
   "execution_count": null,
   "id": "b24b2c6b-60fb-4a5c-b433-9be76ab26cee",
   "metadata": {
    "tags": []
   },
   "outputs": [],
   "source": [
    "def plot_event(event, subarray, ax):\n",
    "    \"\"\"\n",
    "    Draw an ArrayDisplay with image axes and the\n",
    "    true and reconstructed impact position overlaid\n",
    "    \"\"\"\n",
    "\n",
    "    array_pointing = SkyCoord(\n",
    "        az=event.pointing.array_azimuth,\n",
    "        alt=event.pointing.array_altitude,\n",
    "        frame=\"altaz\",\n",
    "    )\n",
    "\n",
    "    angle_offset = event.pointing.array_azimuth\n",
    "    disp = ArrayDisplay(subarray, axes=ax)\n",
    "\n",
    "    hillas_dict = {tid: tel.parameters.hillas for tid, tel in event.dl1.tel.items()}\n",
    "    core_dict = {tid: tel.parameters.core.psi for tid, tel in event.dl1.tel.items()}\n",
    "\n",
    "    disp.set_line_hillas(\n",
    "        hillas_dict,\n",
    "        core_dict,\n",
    "        500,\n",
    "    )\n",
    "\n",
    "    reco_shower = event.dl2.stereo.geometry[\"HillasReconstructor\"]\n",
    "\n",
    "    ax.scatter(\n",
    "        event.simulation.shower.core_x,\n",
    "        event.simulation.shower.core_y,\n",
    "        s=200,\n",
    "        c=\"k\",\n",
    "        marker=\"x\",\n",
    "        label=\"True Impact\",\n",
    "    )\n",
    "    ax.scatter(\n",
    "        reco_shower.core_x,\n",
    "        reco_shower.core_y,\n",
    "        s=200,\n",
    "        c=\"r\",\n",
    "        marker=\"x\",\n",
    "        label=\"Estimated Impact\",\n",
    "    )\n",
    "\n",
    "    ax.legend()"
   ]
  },
  {
   "cell_type": "markdown",
   "id": "47c2e70a-f1f3-4922-92e6-12fffe0566a4",
   "metadata": {},
   "source": [
    "Now, we can loop through some events and plot them. Here we apply default calibration, image processing, and reconstruction, however it is better to use `ctapipe-process` with a well-defined configuration to do this in reality.  Note that some events will not have images bright enough to do parameterization or reconstruction, so they will have no image axis lines or no estimated impact position."
   ]
  },
  {
   "cell_type": "code",
   "execution_count": null,
   "id": "502fe577-3e8a-4e6d-90f3-8db8fbb57b90",
   "metadata": {
    "tags": []
   },
   "outputs": [],
   "source": [
    "fig, ax = plt.subplots(5, 3, figsize=(20, 40), constrained_layout=True)\n",
    "ax = ax.ravel()\n",
    "\n",
    "with EventSource(input_url, max_events=15, focal_length_choice=\"EQUIVALENT\") as source:\n",
    "    calib = CameraCalibrator(subarray=source.subarray)\n",
    "    process_images = ImageProcessor(subarray=source.subarray)\n",
    "    process_shower = ShowerProcessor(subarray=source.subarray)\n",
    "\n",
    "    for i, event in enumerate(source):\n",
    "        calib(event)\n",
    "        process_images(event)\n",
    "        process_shower(event)\n",
    "        plot_event(event, source.subarray, ax=ax[i])"
   ]
  }
 ],
 "metadata": {
  "language_info": {
   "codemirror_mode": {
    "name": "ipython"
   },
   "file_extension": ".py",
   "mimetype": "text/x-python",
   "name": "python",
   "nbconvert_exporter": "python"
  }
 },
 "nbformat": 4,
 "nbformat_minor": 5
}
