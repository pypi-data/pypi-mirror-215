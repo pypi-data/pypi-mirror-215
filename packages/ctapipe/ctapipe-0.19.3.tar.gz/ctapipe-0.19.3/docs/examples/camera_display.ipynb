{
 "cells": [
  {
   "cell_type": "markdown",
   "metadata": {},
   "source": [
    "# Displaying Camera Images"
   ]
  },
  {
   "cell_type": "code",
   "execution_count": null,
   "metadata": {},
   "outputs": [],
   "source": [
    "import astropy.coordinates as c\n",
    "import astropy.units as u\n",
    "import matplotlib.pylab as plt\n",
    "import numpy as np\n",
    "from ctapipe.coordinates import CameraFrame, EngineeringCameraFrame, TelescopeFrame\n",
    "from ctapipe.image import hillas_parameters, tailcuts_clean, toymodel\n",
    "from ctapipe.instrument import SubarrayDescription\n",
    "from ctapipe.visualization import CameraDisplay"
   ]
  },
  {
   "cell_type": "markdown",
   "metadata": {},
   "source": [
    "First, let's create a fake Cherenkov image from a given `CameraGeometry` and fill it with some data that we can draw later."
   ]
  },
  {
   "cell_type": "code",
   "execution_count": null,
   "metadata": {},
   "outputs": [],
   "source": [
    "# load an example camera geometry from a simulation file\n",
    "subarray = SubarrayDescription.read(\"dataset://gamma_prod5.simtel.zst\")\n",
    "geom = subarray.tel[100].camera.geometry\n",
    "\n",
    "# create a fake camera image to display:\n",
    "model = toymodel.Gaussian(\n",
    "    x=0.2 * u.m,\n",
    "    y=0.0 * u.m,\n",
    "    width=0.05 * u.m,\n",
    "    length=0.15 * u.m,\n",
    "    psi=\"35d\",\n",
    ")\n",
    "\n",
    "image, sig, bg = model.generate_image(geom, intensity=1500, nsb_level_pe=10)\n",
    "mask = tailcuts_clean(geom, image, picture_thresh=15, boundary_thresh=5)"
   ]
  },
  {
   "cell_type": "code",
   "execution_count": null,
   "metadata": {},
   "outputs": [],
   "source": [
    "geom"
   ]
  },
  {
   "cell_type": "markdown",
   "metadata": {},
   "source": [
    "## Displaying Images\n",
    "\n",
    "The simplest plot is just to generate a CameraDisplay with an image in its constructor.  A figure and axis will be created automatically"
   ]
  },
  {
   "cell_type": "code",
   "execution_count": null,
   "metadata": {},
   "outputs": [],
   "source": [
    "CameraDisplay(geom)"
   ]
  },
  {
   "cell_type": "markdown",
   "metadata": {},
   "source": [
    "You can also specify the initial `image`, `cmap` and `norm` (colomap and normalization, see below),  `title` to use.  You can specify `ax` if you want to draw the camera on an existing *matplotlib* `Axes` object (otherwise one is created).\n",
    "\n",
    "To change other options, or to change options dynamically, you can call the relevant functions of the `CameraDisplay` object that is returned.  For example to add a color bar, call `add_colorbar()`, or to change the color scale, modify the `cmap` or `norm` properties directly.  "
   ]
  },
  {
   "cell_type": "markdown",
   "metadata": {},
   "source": [
    "### Choosing a coordinate frame\n",
    "\n",
    "The `CameraGeometry` object contains a `ctapipe.coordinates.Frame` used by `CameraDisplay` to draw the camera in the correct orientation and distance units. The default frame is the `CameraFrame`, which will display the camera in units of *meters* and with an orientation that the top of the camera (when parked) is aligned to the X-axis.  To show the camera in another orientation, it's useful to apply a coordinate transform to the `CameraGeometry` before passing it to the `CameraDisplay`.  The following `Frames` are supported:\n",
    "* `EngineeringCameraFrame` : similar to CameraFrame, but with the top of the camera aligned to the Y axis\n",
    "* `TelescopeFrame`: In *degrees* (on the sky) coordinates relative to the  telescope Alt/Az pointing position, with the Alt axis pointing upward.  \n"
   ]
  },
  {
   "cell_type": "code",
   "execution_count": null,
   "metadata": {},
   "outputs": [],
   "source": [
    "fig, ax = plt.subplots(1, 3, figsize=(15, 4))\n",
    "CameraDisplay(geom, image=image, ax=ax[0])\n",
    "CameraDisplay(geom.transform_to(EngineeringCameraFrame()), image=image, ax=ax[1])\n",
    "CameraDisplay(geom.transform_to(TelescopeFrame()), image=image, ax=ax[2])"
   ]
  },
  {
   "cell_type": "markdown",
   "metadata": {},
   "source": [
    "Note the the name of the Frame appears in the lower-right corner"
   ]
  },
  {
   "cell_type": "markdown",
   "metadata": {},
   "source": [
    "For the rest of this demo, let's use the `TelescopeFrame`"
   ]
  },
  {
   "cell_type": "code",
   "execution_count": null,
   "metadata": {},
   "outputs": [],
   "source": [
    "geom_camframe = geom\n",
    "geom = geom_camframe.transform_to(EngineeringCameraFrame())"
   ]
  },
  {
   "cell_type": "markdown",
   "metadata": {},
   "source": [
    "### Changing the color map and scale"
   ]
  },
  {
   "cell_type": "markdown",
   "metadata": {},
   "source": [
    "CameraDisplay supports any [matplotlib color map](https://matplotlib.org/stable/tutorials/colors/colormaps.html)\n",
    "It is **highly recommended** to use a *perceptually uniform* map, unless you have a good reason not to."
   ]
  },
  {
   "cell_type": "code",
   "execution_count": null,
   "metadata": {},
   "outputs": [],
   "source": [
    "fig, ax = plt.subplots(1, 3, figsize=(15, 4))\n",
    "for ii, cmap in enumerate([\"PuOr_r\", \"rainbow\", \"twilight\"]):\n",
    "    disp = CameraDisplay(geom, image=image, ax=ax[ii], title=cmap)\n",
    "    disp.add_colorbar()\n",
    "    disp.cmap = cmap"
   ]
  },
  {
   "cell_type": "markdown",
   "metadata": {},
   "source": [
    "By default the minimum and maximum of the color bar are set automatically by the data in the image. To choose fixed limits, use:`"
   ]
  },
  {
   "cell_type": "code",
   "execution_count": null,
   "metadata": {},
   "outputs": [],
   "source": [
    "fig, ax = plt.subplots(1, 3, figsize=(15, 4))\n",
    "for ii, minmax in enumerate([(10, 50), (-10, 10), (1, 100)]):\n",
    "    disp = CameraDisplay(geom, image=image, ax=ax[ii], title=minmax)\n",
    "    disp.add_colorbar()\n",
    "    disp.set_limits_minmax(minmax[0], minmax[1])"
   ]
  },
  {
   "cell_type": "markdown",
   "metadata": {},
   "source": [
    "Or you can set the maximum limit by percentile of the charge distribution:"
   ]
  },
  {
   "cell_type": "code",
   "execution_count": null,
   "metadata": {},
   "outputs": [],
   "source": [
    "fig, ax = plt.subplots(1, 3, figsize=(15, 4))\n",
    "for ii, pct in enumerate([30, 50, 90]):\n",
    "    disp = CameraDisplay(geom, image=image, ax=ax[ii], title=f\"{pct} %\")\n",
    "    disp.add_colorbar()\n",
    "    disp.set_limits_percent(pct)"
   ]
  },
  {
   "cell_type": "markdown",
   "metadata": {},
   "source": [
    "### Using different normalizations"
   ]
  },
  {
   "cell_type": "markdown",
   "metadata": {},
   "source": [
    "You can choose from several preset normalizations (lin, log, symlog) and also provide a custom normalization, for example a `PowerNorm`:"
   ]
  },
  {
   "cell_type": "code",
   "execution_count": null,
   "metadata": {},
   "outputs": [],
   "source": [
    "from matplotlib.colors import PowerNorm\n",
    "\n",
    "fig, axes = plt.subplots(2, 2, figsize=(14, 10))\n",
    "norms = [\"lin\", \"log\", \"symlog\", PowerNorm(0.5)]\n",
    "\n",
    "for norm, ax in zip(norms, axes.flatten()):\n",
    "    disp = CameraDisplay(geom, image=image, ax=ax)\n",
    "    disp.norm = norm\n",
    "    disp.add_colorbar()\n",
    "    ax.set_title(str(norm))\n",
    "\n",
    "axes[1, 1].set_title(\"PowerNorm(0.5)\")\n",
    "plt.show()"
   ]
  },
  {
   "cell_type": "markdown",
   "metadata": {},
   "source": [
    "## Overlays"
   ]
  },
  {
   "cell_type": "markdown",
   "metadata": {},
   "source": [
    "### Marking pixels\n",
    "\n",
    "here we will mark pixels in the image mask.  That will change their outline color"
   ]
  },
  {
   "cell_type": "code",
   "execution_count": null,
   "metadata": {},
   "outputs": [],
   "source": [
    "fig, ax = plt.subplots(1, 2, figsize=(10, 4))\n",
    "disp = CameraDisplay(\n",
    "    geom, image=image, cmap=\"gray\", ax=ax[0], title=\"Image mask in green\"\n",
    ")\n",
    "disp.highlight_pixels(mask, alpha=0.8, linewidth=2, color=\"green\")\n",
    "\n",
    "disp = CameraDisplay(\n",
    "    geom, image=image, cmap=\"gray\", ax=ax[1], title=\"Image mask in green (zoom)\"\n",
    ")\n",
    "disp.highlight_pixels(mask, alpha=1, linewidth=3, color=\"green\")\n",
    "\n",
    "ax[1].set_ylim(-0.5, 0.5)\n",
    "ax[1].set_xlim(-0.5, 0.5)"
   ]
  },
  {
   "cell_type": "markdown",
   "metadata": {},
   "source": [
    "### Drawing a Hillas-parameter ellipse"
   ]
  },
  {
   "cell_type": "markdown",
   "metadata": {},
   "source": [
    "For this, we will first compute some Hillas Parameters in the current frame:"
   ]
  },
  {
   "cell_type": "code",
   "execution_count": null,
   "metadata": {},
   "outputs": [],
   "source": [
    "clean_image = image.copy()\n",
    "clean_image[~mask] = 0\n",
    "hillas = hillas_parameters(geom, clean_image)\n",
    "\n",
    "plt.figure(figsize=(6, 6))\n",
    "disp = CameraDisplay(geom, image=image, cmap=\"gray_r\")\n",
    "disp.highlight_pixels(mask, alpha=0.5, color=\"dodgerblue\")\n",
    "disp.overlay_moments(hillas, color=\"red\", linewidth=3, with_label=False)"
   ]
  },
  {
   "cell_type": "markdown",
   "metadata": {},
   "source": [
    "### Drawing a marker at a coordinate\n",
    "\n",
    "This depends on the coordinate frame of the `CameraGeometry`.  Here we will sepcify the coordinate the `EngineerngCameraFrame`, but if you have enough information to do the coordinate transform, you could use `ICRS` coordinates and overlay star positions.  `CameraDisplay` will convert the coordinate you pass in to the `Frame` of the display automatically (if sufficient frame attributes are set). \n",
    "\n",
    "Note that the parameter `keep_old` is False by default, meaning adding a new point will clear the previous ones (useful for animations, but perhaps unexpected for a static plot). Set it to `True` to plot multiple markers."
   ]
  },
  {
   "cell_type": "code",
   "execution_count": null,
   "metadata": {},
   "outputs": [],
   "source": [
    "plt.figure(figsize=(6, 6))\n",
    "disp = CameraDisplay(geom, image=image, cmap=\"gray_r\")\n",
    "\n",
    "coord = c.SkyCoord(x=0.5 * u.m, y=0.7 * u.m, frame=geom.frame)\n",
    "coord_in_another_frame = c.SkyCoord(x=0.5 * u.m, y=0.7 * u.m, frame=CameraFrame())\n",
    "disp.overlay_coordinate(coord, markersize=20, marker=\"*\")\n",
    "disp.overlay_coordinate(\n",
    "    coord_in_another_frame, markersize=20, marker=\"*\", keep_old=True\n",
    ")"
   ]
  },
  {
   "cell_type": "markdown",
   "metadata": {},
   "source": [
    "## Generating an animation\n",
    "\n",
    "Here we will make an animation of fake events by re-using a single display (much faster than generating a new one each time) "
   ]
  },
  {
   "cell_type": "code",
   "execution_count": null,
   "metadata": {},
   "outputs": [],
   "source": [
    "from IPython import display\n",
    "from matplotlib.animation import FuncAnimation\n",
    "\n",
    "subarray = SubarrayDescription.read(\"dataset://gamma_prod5.simtel.zst\")\n",
    "geom = subarray.tel[1].camera.geometry\n",
    "\n",
    "fov = 1.0\n",
    "maxwid = 0.05\n",
    "maxlen = 0.1\n",
    "\n",
    "fig, ax = plt.subplots(1, 1, figsize=(8, 6))\n",
    "disp = CameraDisplay(geom, ax=ax)  # we only need one display (it can be re-used)\n",
    "disp.cmap = \"inferno\"\n",
    "disp.add_colorbar(ax=ax)\n",
    "\n",
    "\n",
    "def update(frame):\n",
    "    \"\"\"this function will be called for each frame of the animation\"\"\"\n",
    "    x, y = np.random.uniform(-fov, fov, size=2)\n",
    "    width = np.random.uniform(0.01, maxwid)\n",
    "    length = np.random.uniform(width, maxlen)\n",
    "    angle = np.random.uniform(0, 180)\n",
    "    intens = width * length * (5e4 + 1e5 * np.random.exponential(2))\n",
    "\n",
    "    model = toymodel.Gaussian(\n",
    "        x=x * u.m,\n",
    "        y=y * u.m,\n",
    "        width=width * u.m,\n",
    "        length=length * u.m,\n",
    "        psi=angle * u.deg,\n",
    "    )\n",
    "    image, _, _ = model.generate_image(\n",
    "        geom,\n",
    "        intensity=intens,\n",
    "        nsb_level_pe=5,\n",
    "    )\n",
    "    disp.image = image\n",
    "\n",
    "\n",
    "# Create the animation and convert to a displayable video:\n",
    "anim = FuncAnimation(fig, func=update, frames=10, interval=200)\n",
    "plt.close(fig)  # so it doesn't display here\n",
    "video = anim.to_html5_video()\n",
    "display.display(display.HTML(video))"
   ]
  },
  {
   "cell_type": "markdown",
   "metadata": {},
   "source": [
    "## Using CameraDisplays interactively\n",
    "\n",
    "`CameraDisplays` can be used interactivly whe displayed in a window, and also when using Jupyter notebooks/lab with appropriate backends. \n",
    "\n",
    "When this is the case, the same `CameraDisplay` object can be re-used.  We can't show this here in the documentation, but creating an animation when in a matplotlib window is quite easy! Try this in an interactive ipython session:\n",
    "\n",
    "### Running interactive displays in a matplotlib window\n",
    "\n",
    "```sh\n",
    "ipython -i --maplotlib=auto\n",
    "```\n",
    "\n",
    "That will open an ipython session with matplotlib graphics in a separate thread, meaning that you can type code and interact with plots simultaneneously. \n",
    "\n",
    "In the ipython session try running the following code and you will see an animation (here in the documentation, it will of course be static)\n",
    "\n",
    "First we load some real data so we have a nice image to view:"
   ]
  },
  {
   "cell_type": "code",
   "execution_count": null,
   "metadata": {},
   "outputs": [],
   "source": [
    "import matplotlib.pyplot as plt\n",
    "from ctapipe.io import EventSource\n",
    "from ctapipe.visualization import CameraDisplay\n",
    "import numpy as np\n",
    "\n",
    "DATA = \"dataset://gamma_20deg_0deg_run1___cta-prod5-lapalma_desert-2158m-LaPalma-dark_100evts.simtel.zst\"\n",
    "\n",
    "with EventSource(\n",
    "    DATA,\n",
    "    max_events=1,\n",
    "    focal_length_choice=\"EQUIVALENT\",\n",
    ") as source:\n",
    "    event = next(iter(source))\n",
    "\n",
    "tel_id = list(event.r0.tel.keys())[0]\n",
    "geom = source.subarray.tel[tel_id].camera.geometry\n",
    "waveform = event.r0.tel[tel_id].waveform\n",
    "n_chan, n_pix, n_samp = waveform.shape"
   ]
  },
  {
   "cell_type": "markdown",
   "metadata": {},
   "source": [
    "Running the following the will bring up a window and animate the shower image as a function of time. "
   ]
  },
  {
   "cell_type": "code",
   "execution_count": null,
   "metadata": {},
   "outputs": [],
   "source": [
    "disp = CameraDisplay(geom)\n",
    "\n",
    "for ii in range(n_samp):\n",
    "    disp.image = waveform[0, :, ii]\n",
    "    plt.pause(0.1)  # this lets matplotlib re-draw the scene"
   ]
  },
  {
   "cell_type": "markdown",
   "metadata": {},
   "source": [
    "The output will be similar to the static animation created as follows:"
   ]
  },
  {
   "cell_type": "code",
   "execution_count": null,
   "metadata": {},
   "outputs": [],
   "source": [
    "fig, ax = plt.subplots(1, 1)\n",
    "disp = CameraDisplay(geom, ax=ax)\n",
    "disp.add_colorbar()\n",
    "disp.autoscale = False\n",
    "\n",
    "\n",
    "def draw_sample(frame):\n",
    "    ax.set_title(f\"sample: {frame}\")\n",
    "    disp.set_limits_minmax(200, 400)\n",
    "    disp.image = waveform[0, :, frame]\n",
    "\n",
    "\n",
    "anim = FuncAnimation(fig, func=draw_sample, frames=n_samp, interval=100)\n",
    "plt.close(fig)  # so it doesn't display here\n",
    "video = anim.to_html5_video()\n",
    "display.display(display.HTML(video))"
   ]
  },
  {
   "cell_type": "markdown",
   "metadata": {},
   "source": [
    "### Making it clickable \n",
    "\n",
    "Also when running in a window, you can enable the `disp.enable_pixel_picker()` option.  This will then allow the user to click a pixel and a function will run.  By default the function simply prints the pixel and value to stdout, however you can override the function `on_pixel_clicked(pix_id)` to do anything you want by making a subclass"
   ]
  },
  {
   "cell_type": "code",
   "execution_count": null,
   "metadata": {},
   "outputs": [],
   "source": [
    "class MyCameraDisplay(CameraDisplay):\n",
    "    def on_pixel_clicked(self, pix_id):\n",
    "        print(f\"{pix_id=} has value {self.image[pix_id]:.2f}\")"
   ]
  },
  {
   "cell_type": "code",
   "execution_count": null,
   "metadata": {},
   "outputs": [],
   "source": [
    "disp = MyCameraDisplay(geom, image=image)\n",
    "disp.enable_pixel_picker()"
   ]
  },
  {
   "cell_type": "markdown",
   "metadata": {},
   "source": [
    "then, when a user clicks a pixel it would print:\n",
    "```\n",
    "pixel 5 has value 2.44\n",
    "```"
   ]
  },
  {
   "cell_type": "code",
   "execution_count": null,
   "metadata": {},
   "outputs": [],
   "source": []
  }
 ],
 "metadata": {
  "anaconda-cloud": {},
  "language_info": {
   "codemirror_mode": {
    "name": "ipython"
   },
   "file_extension": ".py",
   "mimetype": "text/x-python",
   "name": "python",
   "nbconvert_exporter": "python"
  }
 },
 "nbformat": 4,
 "nbformat_minor": 4
}
