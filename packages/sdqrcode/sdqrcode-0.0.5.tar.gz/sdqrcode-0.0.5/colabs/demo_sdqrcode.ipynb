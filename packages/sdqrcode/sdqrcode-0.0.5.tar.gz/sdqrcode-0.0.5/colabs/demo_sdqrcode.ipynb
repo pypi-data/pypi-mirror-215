{
  "cells": [
    {
      "cell_type": "markdown",
      "metadata": {
        "id": "view-in-github",
        "colab_type": "text"
      },
      "source": [
        "<a href=\"https://colab.research.google.com/github/koll-ai/stable-difusion-qrcode/blob/master/colabs/demo_sdqrcode.ipynb\" target=\"_parent\"><img src=\"https://colab.research.google.com/assets/colab-badge.svg\" alt=\"Open In Colab\"/></a>"
      ]
    },
    {
      "cell_type": "markdown",
      "source": [
        "warnings: I just made it works, might be unstable"
      ],
      "metadata": {
        "id": "W2K30ySn1T-s"
      }
    },
    {
      "cell_type": "code",
      "source": [
        "!pip install sdqrcode python-dotenv qrcode[pil]"
      ],
      "metadata": {
        "id": "v1ohDBIv01Zs"
      },
      "execution_count": null,
      "outputs": []
    },
    {
      "cell_type": "code",
      "execution_count": null,
      "metadata": {
        "id": "ovkca3Re00Q_"
      },
      "outputs": [],
      "source": [
        "import sdqrcode.sdqrcode as sdqrcode\n",
        "import dotenv\n",
        "import os\n"
      ]
    },
    {
      "cell_type": "code",
      "execution_count": null,
      "metadata": {
        "id": "8rGrMkWs00RB"
      },
      "outputs": [],
      "source": [
        "!pip install --upgrade sdqrcode"
      ]
    },
    {
      "cell_type": "code",
      "execution_count": 3,
      "metadata": {
        "id": "0GPVJHZj00RC"
      },
      "outputs": [],
      "source": [
        "!mkdir configs"
      ]
    },
    {
      "cell_type": "code",
      "execution_count": null,
      "metadata": {
        "id": "Vsd9aX9_00RC"
      },
      "outputs": [],
      "source": [
        "# edit the config file to your needs (will explain parameters in future update)"
      ]
    },
    {
      "cell_type": "code",
      "execution_count": null,
      "metadata": {
        "id": "QGlHm4Dr00RC"
      },
      "outputs": [],
      "source": [
        "%%file ./configs/default.yaml\n",
        "global:\n",
        "    prompt: \"a beautiful landscape\"\n",
        "    model_name_or_path_or_api_name: \"6ce0161689\"\n",
        "    steps: 20\n",
        "    sampler_name: Euler a\n",
        "    cfg_scale: 7\n",
        "    width: 512\n",
        "    height: 512\n",
        "    seed: -1\n",
        "\n",
        "controlnet_units:\n",
        "    - module: inpaint\n",
        "      model: control_v1p_sd15_brightness [5f6aa6ed]\n",
        "      weight: 0.35\n",
        "      start: 0.0\n",
        "      end: 1.0\n",
        "\n",
        "    - module: inpaint\n",
        "      model: control_v11f1e_sd15_tile [a371b31b]\n",
        "      weight: 0.5\n",
        "      start: 0.35\n",
        "      end: 0.70\n",
        "\n",
        "qrcode:\n",
        "    text: \"https://koll.ai\"\n",
        "    error_correction: high # [low, medium, quart, high]\n",
        "    box_size: 10\n",
        "    border: 4\n",
        "    fill_color: black\n",
        "    back_color: white\n"
      ]
    },
    {
      "cell_type": "code",
      "source": [
        "%%file .env\n",
        "AUTO_API_HOSTNAME=xx\n",
        "AUTO_API_PORT=7860\n",
        "AUTO_API_HTTPS=true\n",
        "AUTO_API_USERNAME=xxx\n",
        "AUTO_API_PASSWORD=xxx"
      ],
      "metadata": {
        "id": "7Rph29C41vsB"
      },
      "execution_count": null,
      "outputs": []
    },
    {
      "cell_type": "code",
      "execution_count": null,
      "metadata": {
        "id": "NwKRbI_200RC"
      },
      "outputs": [],
      "source": [
        "dotenv.load_dotenv()\n",
        "\n",
        "sd_qr_code = sdqrcode.generate_sd_qrcode(\n",
        "            config_name_or_path=\"./configs/default.yaml\",\n",
        "            auto_api_hostname=os.getenv(\"AUTO_API_HOSTNAME\"),\n",
        "            auto_api_port=os.getenv(\"AUTO_API_PORT\"),\n",
        "            auto_api_https=os.getenv(\"AUTO_API_HTTPS\") == \"true\",\n",
        "            auto_api_username=os.getenv(\"AUTO_API_USERNAME\"),\n",
        "            auto_api_password=os.getenv(\"AUTO_API_PASSWORD\"),\n",
        "        )\n",
        "\n",
        "sd_qr_code[0]"
      ]
    },
    {
      "cell_type": "code",
      "execution_count": null,
      "metadata": {
        "id": "CtpsaoEh00RD"
      },
      "outputs": [],
      "source": [
        "sd_qr_code[0].save('sdqrcode.png')"
      ]
    }
  ],
  "metadata": {
    "kernelspec": {
      "display_name": "sdwebui",
      "language": "python",
      "name": "python3"
    },
    "language_info": {
      "codemirror_mode": {
        "name": "ipython",
        "version": 3
      },
      "file_extension": ".py",
      "mimetype": "text/x-python",
      "name": "python",
      "nbconvert_exporter": "python",
      "pygments_lexer": "ipython3",
      "version": "3.11.3"
    },
    "orig_nbformat": 4,
    "colab": {
      "provenance": [],
      "include_colab_link": true
    }
  },
  "nbformat": 4,
  "nbformat_minor": 0
}