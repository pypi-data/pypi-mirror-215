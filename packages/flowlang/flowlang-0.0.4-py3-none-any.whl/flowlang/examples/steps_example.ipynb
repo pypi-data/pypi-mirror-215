{
 "cells": [
  {
   "cell_type": "code",
   "execution_count": 21,
   "metadata": {},
   "outputs": [],
   "source": [
    "import sys\n",
    "sys.path.append('..')\n",
    "\n",
    "from personai.core.steps import (\n",
    "    StartStep, \n",
    "    EndStep,\n",
    "    SummarizationStep,\n",
    "    TranslationStep,\n",
    "    ControlStep,\n",
    "    ApiCallStep,\n",
    "    ValidationStep\n",
    ")\n",
    "\n",
    "from personai.core.models import OpenAIModel\n",
    "import ast"
   ]
  },
  {
   "cell_type": "code",
   "execution_count": 22,
   "metadata": {},
   "outputs": [],
   "source": [
    "openai_token = 'some_token'"
   ]
  },
  {
   "attachments": {},
   "cell_type": "markdown",
   "metadata": {},
   "source": [
    "# Summarize"
   ]
  },
  {
   "cell_type": "code",
   "execution_count": 23,
   "metadata": {},
   "outputs": [],
   "source": [
    "openai_model_name = 'gpt-3.5-turbo-16k-0613'\n",
    "\n",
    "model = OpenAIModel(openai_model_name, openai_token)"
   ]
  },
  {
   "cell_type": "code",
   "execution_count": 24,
   "metadata": {},
   "outputs": [
    {
     "name": "stdout",
     "output_type": "stream",
     "text": [
      "Sending end user IDs helps OpenAI track and detect abuse.\n"
     ]
    }
   ],
   "source": [
    "text = \"Sending end user IDs in your requests can be a useful tool to help OpenAI track and detect abuse. This allows OpenAI to provide more actionable feedback to your team if we detect any policy violations in your application.\"\n",
    "\n",
    "summarize_step = SummarizationStep(model)\n",
    "print(summarize_step(text, \"summarize\", 10))"
   ]
  },
  {
   "attachments": {},
   "cell_type": "markdown",
   "metadata": {},
   "source": [
    "# Translate"
   ]
  },
  {
   "cell_type": "code",
   "execution_count": 5,
   "metadata": {},
   "outputs": [],
   "source": [
    "openai_model_name = 'gpt-3.5-turbo-16k-0613'\n",
    "\n",
    "model = OpenAIModel(openai_model_name, openai_token, temperature=0)"
   ]
  },
  {
   "cell_type": "code",
   "execution_count": 6,
   "metadata": {},
   "outputs": [
    {
     "data": {
      "text/plain": [
       "'Отправка идентификаторов пользователей помогает {OpenAI} отслеживать и обнаруживать злоупотребления.'"
      ]
     },
     "execution_count": 6,
     "metadata": {},
     "output_type": "execute_result"
    }
   ],
   "source": [
    "text = \"Sending user [IDs] helps {OpenAI} track and detect abuse.\"\n",
    "translate_step = TranslationStep(model)\n",
    "translate_step(text, \"english\", \"russian\", \"formal\")"
   ]
  },
  {
   "cell_type": "code",
   "execution_count": 7,
   "metadata": {},
   "outputs": [
    {
     "name": "stdout",
     "output_type": "stream",
     "text": [
      "Отправка [идентификаторов пользователей] помогает {OpenAI} отслеживать и обнаруживать злоупотребления.\n"
     ]
    }
   ],
   "source": [
    "text = \"Sending [user identifiers] helps {OpenAI} track and detect abuse.\"\n",
    "print(translate_step(text, \"english\", \"russian\", \"formal\"))"
   ]
  },
  {
   "attachments": {},
   "cell_type": "markdown",
   "metadata": {},
   "source": [
    "# Validate"
   ]
  },
  {
   "cell_type": "code",
   "execution_count": 8,
   "metadata": {},
   "outputs": [],
   "source": [
    "openai_model_name = 'gpt-3.5-turbo-16k-0613'\n",
    "\n",
    "validation_model = OpenAIModel(openai_model_name, openai_token, temperature=0)\n",
    "validation_step = ValidationStep(validation_model)"
   ]
  },
  {
   "cell_type": "code",
   "execution_count": 9,
   "metadata": {},
   "outputs": [],
   "source": [
    "text=\"Sending end user IDs in your requests can be a useful tool to help OpenAI track and detect abuse. \\\n",
    "This allows OpenAI to provide more actionable feedback to your team if we detect any policy violations in your application.\"\n",
    "\n",
    "task = \"Translate following text from english to russian\"\n",
    "answer = \"Отправка идентификаторов конечных пользователей в ваши запросы может быть полезным инструментом для помощи OpenAI \\\n",
    "    в отслеживании и обнаружении злоупотреблений. Это позволяет OpenAI предоставлять более действенные отзывы вашей команде, \\\n",
    "        если мы обнаружим нарушения политики в вашем приложении.\""
   ]
  },
  {
   "cell_type": "code",
   "execution_count": 10,
   "metadata": {},
   "outputs": [
    {
     "data": {
      "text/plain": [
       "'{\"evaluation\": \"valid\", \"explanation\": \"\"}'"
      ]
     },
     "execution_count": 10,
     "metadata": {},
     "output_type": "execute_result"
    }
   ],
   "source": [
    "validation_step(answer=answer, task=task, context=text)"
   ]
  },
  {
   "cell_type": "code",
   "execution_count": 11,
   "metadata": {},
   "outputs": [
    {
     "data": {
      "text/plain": [
       "'{\"evaluation\": \"invalid\", \"explanation\": \"The answer is not relevant to the context. The user\\'s answer is a greeting and does not translate the given English text to Russian.\"}'"
      ]
     },
     "execution_count": 11,
     "metadata": {},
     "output_type": "execute_result"
    }
   ],
   "source": [
    "answer = \"Привет, как дела?\"\n",
    "validation_step(answer=answer, task=task, context=text)"
   ]
  },
  {
   "attachments": {},
   "cell_type": "markdown",
   "metadata": {},
   "source": [
    "# Api Call"
   ]
  },
  {
   "cell_type": "code",
   "execution_count": 16,
   "metadata": {},
   "outputs": [],
   "source": [
    "def search_call(**search_params):\n",
    "    return \"Search\"\n",
    "\n",
    "def info_call(**search_params):\n",
    "    return \"Info\"\n",
    "\n",
    "\n",
    "search_call_spec = [\n",
    "        dict(\n",
    "            name='search_call',\n",
    "            description='search API call with the given parameters to make books recommendation',\n",
    "            parameters=dict(\n",
    "                type='object',\n",
    "                properties=dict(\n",
    "                    authorName=dict(type='string', description=\"full author name\"),\n",
    "                    bookName=dict(type='string', description=\"full book name\"),\n",
    "                    priceMin=dict(type='integer', description=\"minimum price in rubles\"),\n",
    "                    priceMax=dict(type='integer', description=\"maximum price in rubles\"),\n",
    "                    adultsOnly=dict(type='boolean', description=\"only books for adults\", enum=[\"True\", \"False\"]),\n",
    "                    childOnly=dict(type='boolean', description=\"only child books\", enum=[\"True\", \"False\"]),\n",
    "                    illustrations=dict(type='boolean', enum=[\"True\", \"False\"])))),\n",
    "        dict(\n",
    "            name='info_call',\n",
    "            description='info API call to get info about the selected book',\n",
    "            parameters=dict(\n",
    "                type='object',\n",
    "                properties=dict(\n",
    "                    bookName=dict(type='string', description=\"full book name\")\n",
    "                )))\n",
    "]"
   ]
  },
  {
   "cell_type": "code",
   "execution_count": 17,
   "metadata": {},
   "outputs": [],
   "source": [
    "openai_model_name = 'gpt-3.5-turbo-16k-0613'\n",
    "\n",
    "api_call_model = OpenAIModel(openai_model_name, openai_token, temperature=0)\n",
    "api_call_step = ApiCallStep(api_call_model, {\"search_call\": search_call, \"info_call\": info_call}, search_call_spec)"
   ]
  },
  {
   "cell_type": "code",
   "execution_count": 18,
   "metadata": {},
   "outputs": [
    {
     "data": {
      "text/plain": [
       "{'result': 'Search',\n",
       " 'function_call': '{\\'name\\': \\'search_call\\', \\'arguments\\': \"{\\'childOnly\\': True, \\'priceMax\\': 500, \\'illustrations\\': True}\"}'}"
      ]
     },
     "execution_count": 18,
     "metadata": {},
     "output_type": "execute_result"
    }
   ],
   "source": [
    "task=\"childern's book no more than 500 rubles with pictures about knights\"\n",
    "api_call_step(task)"
   ]
  },
  {
   "cell_type": "code",
   "execution_count": 19,
   "metadata": {},
   "outputs": [
    {
     "data": {
      "text/plain": [
       "{'result': 'Info',\n",
       " 'function_call': '{\\'name\\': \\'info_call\\', \\'arguments\\': \"{\\'bookName\\': \\'Shining\\'}\"}'}"
      ]
     },
     "execution_count": 19,
     "metadata": {},
     "output_type": "execute_result"
    }
   ],
   "source": [
    "task=\"\"\"what's the price of the \"Shining\" book.\"\"\"\n",
    "api_call_step(task)"
   ]
  },
  {
   "cell_type": "code",
   "execution_count": 20,
   "metadata": {},
   "outputs": [
    {
     "data": {
      "text/plain": [
       "{'result': None,\n",
       " 'message': 'I\\'m sorry, but I\\'m not sure what you mean by \"rock\". Could you please provide more context or clarify your request?'}"
      ]
     },
     "execution_count": 20,
     "metadata": {},
     "output_type": "execute_result"
    }
   ],
   "source": [
    "task=\"rock\"\n",
    "api_call_step(task)"
   ]
  },
  {
   "attachments": {},
   "cell_type": "markdown",
   "metadata": {},
   "source": [
    "# Control"
   ]
  },
  {
   "cell_type": "code",
   "execution_count": 15,
   "metadata": {},
   "outputs": [],
   "source": [
    "openai_model_name = 'gpt-3.5-turbo-16k-0613'\n",
    "\n",
    "summarize_model = OpenAIModel(openai_model_name, openai_token)\n",
    "translate_model = OpenAIModel(openai_model_name, openai_token, temperature=0)\n",
    "\n",
    "summarize_step = SummarizationStep(summarize_model)\n",
    "translate_step = TranslationStep(translate_model)\n",
    "\n",
    "start_step = StartStep(summarize_model)\n",
    "end_step = EndStep(summarize_model)\n",
    "steps = {step.name: step for step in [summarize_step, translate_step, end_step]}\n",
    "steps_specs = [step.spec for step in steps.values()]"
   ]
  },
  {
   "cell_type": "code",
   "execution_count": 16,
   "metadata": {},
   "outputs": [],
   "source": [
    "control_model = OpenAIModel(openai_model_name, openai_token, history_volume=5, temperature=0)\n",
    "control_step = ControlStep(control_model, steps, steps_specs)"
   ]
  },
  {
   "cell_type": "code",
   "execution_count": 17,
   "metadata": {},
   "outputs": [],
   "source": [
    "text = \"Sending end user IDs in your requests can be a useful tool to help OpenAI track and detect abuse. \\\n",
    "This allows OpenAI to provide more actionable feedback to your team if we detect any policy violations in your application.\"\n",
    "task = f\"Highlight the main idea of the text using no more 10 words and translate it into Russian: {text}\""
   ]
  },
  {
   "cell_type": "code",
   "execution_count": 18,
   "metadata": {},
   "outputs": [
    {
     "name": "stdout",
     "output_type": "stream",
     "text": [
      "- START\n",
      "1. Sending user IDs to OpenAI helps track abuse and improve feedback.\n",
      "2. Отправка идентификаторов пользователей в OpenAI помогает отслеживать злоупотребления и улучшать обратную связь.\n",
      "3. Идентификаторы пользователей в OpenAI помогают отслеживать злоупотребления и улучшать обратную связь.\n",
      "4. Идентификаторы пользователей в OpenAI для безопасности и обратной связи.\n",
      "5. Идентификаторы пользователей в OpenAI используются для обеспечения безопасности и улучшения обратной связи.\n",
      "- DONE\n"
     ]
    }
   ],
   "source": [
    "is_end = False\n",
    "iteration = 0\n",
    "print('- START')\n",
    "while not is_end:\n",
    "    iteration += 1\n",
    "    response = control_step(task)['result']\n",
    "    print(f'{iteration}. {response}')\n",
    "    task = response\n",
    "    func_call = control_model.history[-1].get('function_call')\n",
    "    if func_call:\n",
    "        func_call = ast.literal_eval(func_call)\n",
    "        if func_call.get('name') == 'end_step':\n",
    "            is_end = True\n",
    "            print('- DONE')"
   ]
  },
  {
   "cell_type": "code",
   "execution_count": 19,
   "metadata": {},
   "outputs": [
    {
     "data": {
      "text/plain": [
       "[{'role': 'user',\n",
       "  'content': 'Sending user IDs to OpenAI helps track abuse and improve feedback.'},\n",
       " {'role': 'assistant',\n",
       "  'content': 'Отправка идентификаторов пользователей в OpenAI помогает отслеживать злоупотребления и улучшать обратную связь.',\n",
       "  'function_call': '{\\'name\\': \\'translation_step\\', \\'arguments\\': \"{\\'text\\': \\'Sending user IDs to OpenAI helps track abuse and improve feedback.\\', \\'from_language\\': \\'en\\', \\'to_language\\': \\'ru\\', \\'style\\': \\'default\\'}\"}'},\n",
       " {'role': 'user',\n",
       "  'content': 'Отправка идентификаторов пользователей в OpenAI помогает отслеживать злоупотребления и улучшать обратную связь.'},\n",
       " {'role': 'assistant',\n",
       "  'content': 'Идентификаторы пользователей в OpenAI помогают отслеживать злоупотребления и улучшать обратную связь.',\n",
       "  'function_call': '{\\'name\\': \\'summarization_step\\', \\'arguments\\': \"{\\'text\\': \\'Отправка идентификаторов пользователей в OpenAI помогает отслеживать злоупотребления и улучшать обратную связь.\\', \\'action\\': \\'summarize\\', \\'words_limitation\\': 10}\"}'},\n",
       " {'role': 'user',\n",
       "  'content': 'Идентификаторы пользователей в OpenAI помогают отслеживать злоупотребления и улучшать обратную связь.'},\n",
       " {'role': 'assistant',\n",
       "  'content': 'Идентификаторы пользователей в OpenAI для безопасности и обратной связи.',\n",
       "  'function_call': '{\\'name\\': \\'summarization_step\\', \\'arguments\\': \"{\\'text\\': \\'Идентификаторы пользователей в OpenAI помогают отслеживать злоупотребления и улучшать обратную связь.\\', \\'action\\': \\'summarize\\', \\'words_limitation\\': 10}\"}'},\n",
       " {'role': 'user',\n",
       "  'content': 'Идентификаторы пользователей в OpenAI для безопасности и обратной связи.'},\n",
       " {'role': 'assistant',\n",
       "  'content': 'Идентификаторы пользователей в OpenAI используются для обеспечения безопасности и улучшения обратной связи.',\n",
       "  'function_call': '{\\'name\\': \\'end_step\\', \\'arguments\\': \"{\\'result\\': \\'Идентификаторы пользователей в OpenAI используются для обеспечения безопасности и улучшения обратной связи.\\'}\"}'}]"
      ]
     },
     "execution_count": 19,
     "metadata": {},
     "output_type": "execute_result"
    }
   ],
   "source": [
    "control_model.history"
   ]
  },
  {
   "cell_type": "code",
   "execution_count": null,
   "metadata": {},
   "outputs": [],
   "source": []
  }
 ],
 "metadata": {
  "kernelspec": {
   "display_name": "DL",
   "language": "python",
   "name": "python3"
  },
  "language_info": {
   "codemirror_mode": {
    "name": "ipython",
    "version": 3
   },
   "file_extension": ".py",
   "mimetype": "text/x-python",
   "name": "python",
   "nbconvert_exporter": "python",
   "pygments_lexer": "ipython3",
   "version": "3.9.15"
  },
  "orig_nbformat": 4
 },
 "nbformat": 4,
 "nbformat_minor": 2
}
