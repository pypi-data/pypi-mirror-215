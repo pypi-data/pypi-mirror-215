{
 "cells": [
  {
   "cell_type": "code",
   "execution_count": 1,
   "metadata": {},
   "outputs": [],
   "source": [
    "import sys\n",
    "sys.path.append('..')\n",
    "\n",
    "\n",
    "from core.steps import (\n",
    "    StartStep, \n",
    "    EndStep,\n",
    "    SummarizationStep,\n",
    "    TranslationStep,\n",
    "    ValidationStep\n",
    ")\n",
    "\n",
    "from core.scenarios import (\n",
    "    Scenario,\n",
    "    ScenarioMode\n",
    ")\n",
    "\n",
    "from core.models import OpenAIModel"
   ]
  },
  {
   "attachments": {},
   "cell_type": "markdown",
   "metadata": {},
   "source": [
    "# Manual"
   ]
  },
  {
   "cell_type": "code",
   "execution_count": 2,
   "metadata": {},
   "outputs": [],
   "source": [
    "openai_token = 'some_token'\n",
    "openai_model_name = 'gpt-3.5-turbo-16k-0613'\n",
    "\n",
    "summarize_model = OpenAIModel(openai_model_name, openai_token)\n",
    "translate_model = OpenAIModel(openai_model_name, openai_token, temperature=0)\n",
    "validation_model = OpenAIModel(openai_model_name, openai_token, temperature=0)\n",
    "\n",
    "summarize_step = SummarizationStep(summarize_model)\n",
    "translate_step = TranslationStep(translate_model)\n",
    "validation_step = ValidationStep(validation_model)\n",
    "\n",
    "start_step = StartStep(summarize_model)\n",
    "end_step = EndStep(summarize_model)\n",
    "steps = [start_step, summarize_step, translate_step, validation_step, end_step]"
   ]
  },
  {
   "cell_type": "code",
   "execution_count": 3,
   "metadata": {},
   "outputs": [],
   "source": [
    "scenario_flow = [\n",
    "    dict(name='start_step', inputs=dict(task='$task')),\n",
    "    dict(name='summarization_step', inputs=dict(text='$start_step', action='summarize', words_limitation='50')),\n",
    "    dict(name='translation_step', inputs=dict(text='$summarization_step', from_language='english', to_language='russian', style='formal')),\n",
    "    dict(name='validation_step', inputs=dict(answer='$translation_step', task='Translate the following text from english to russian', context='$summarization_step')),\n",
    "    dict(name='end_step', inputs=dict(result='$translation_step'))\n",
    "]"
   ]
  },
  {
   "cell_type": "code",
   "execution_count": 4,
   "metadata": {},
   "outputs": [],
   "source": [
    "text = \"Sending end user IDs in your requests can be a useful tool to help OpenAI track and detect abuse. \\\n",
    "This allows OpenAI to provide more actionable feedback to your team if we detect any policy violations in your application.\""
   ]
  },
  {
   "cell_type": "code",
   "execution_count": 5,
   "metadata": {},
   "outputs": [
    {
     "name": "stdout",
     "output_type": "stream",
     "text": [
      "Отправка идентификаторов конечных пользователей в запросах к OpenAI может помочь им отслеживать и обнаруживать злоупотребления, позволяя им давать более конкретную обратную связь, если в вашем приложении обнаружены нарушения политики.\n",
      "{'task': {'data': 'Sending end user IDs in your requests can be a useful tool to help OpenAI track and detect abuse. This allows OpenAI to provide more actionable feedback to your team if we detect any policy violations in your application.', 'id': 0}, 'start_step': {'data': 'Sending end user IDs in your requests can be a useful tool to help OpenAI track and detect abuse. This allows OpenAI to provide more actionable feedback to your team if we detect any policy violations in your application.', 'id': 1}, 'summarization_step': {'data': 'Sending end user IDs in requests to OpenAI can help them track and detect abuse, enabling them to give more specific feedback if any policy violations are found in your application.', 'id': 2}, 'translation_step': {'data': 'Отправка идентификаторов конечных пользователей в запросах к OpenAI может помочь им отслеживать и обнаруживать злоупотребления, позволяя им давать более конкретную обратную связь, если в вашем приложении обнаружены нарушения политики.', 'id': 3}, 'validation_step': {'data': '{\"evaluation\": \"valid\", \"explanation\": \"\"}', 'id': 4}, 'end_step': {'data': 'Отправка идентификаторов конечных пользователей в запросах к OpenAI может помочь им отслеживать и обнаруживать злоупотребления, позволяя им давать более конкретную обратную связь, если в вашем приложении обнаружены нарушения политики.', 'id': 5}}\n"
     ]
    }
   ],
   "source": [
    "scenario = Scenario()\n",
    "scenario.setup(steps)\n",
    "\n",
    "scenario_run = scenario.run(text, ScenarioMode.DEFINED, flow=scenario_flow)\n",
    "\n",
    "print(scenario_run.result)\n",
    "print(scenario_run.history)"
   ]
  },
  {
   "attachments": {},
   "cell_type": "markdown",
   "metadata": {},
   "source": [
    "# Auto"
   ]
  },
  {
   "cell_type": "code",
   "execution_count": 2,
   "metadata": {},
   "outputs": [],
   "source": [
    "openai_token = 'some_token'\n",
    "openai_model_name = 'gpt-3.5-turbo-16k-0613'\n",
    "\n",
    "summarize_model = OpenAIModel(openai_model_name, openai_token)\n",
    "translate_model = OpenAIModel(openai_model_name, openai_token, temperature=0)\n",
    "validation_model = OpenAIModel(openai_model_name, openai_token, temperature=0)\n",
    "\n",
    "summarize_step = SummarizationStep(summarize_model)\n",
    "translate_step = TranslationStep(translate_model)\n",
    "validation_step = ValidationStep(validation_model)\n",
    "\n",
    "end_step = EndStep(summarize_model)\n",
    "steps = [summarize_step, translate_step, end_step, validation_step]"
   ]
  },
  {
   "cell_type": "code",
   "execution_count": 3,
   "metadata": {},
   "outputs": [],
   "source": [
    "text = \"Sending end user IDs in your requests can be a useful tool to help OpenAI track and detect abuse. \\\n",
    "This allows OpenAI to provide more actionable feedback to your team if we detect any policy violations in your application.\"\n",
    "task = f\"Highlight the main idea of the text using no more 10 words and translate main idea into Russian: {text}\""
   ]
  },
  {
   "cell_type": "code",
   "execution_count": 4,
   "metadata": {},
   "outputs": [],
   "source": [
    "openai_token = 'some_token'\n",
    "openai_model_name = 'gpt-3.5-turbo-16k-0613'\n",
    "\n",
    "control_model = OpenAIModel(openai_model_name, openai_token, history_volume=10, temperature=0)\n",
    "\n",
    "scenario = Scenario()\n",
    "scenario.setup(steps, needs_control=True, control_model=control_model)"
   ]
  },
  {
   "cell_type": "code",
   "execution_count": 5,
   "metadata": {},
   "outputs": [
    {
     "name": "stdout",
     "output_type": "stream",
     "text": [
      "Отправка идентификаторов конечных пользователей помогает OpenAI отслеживать и обнаруживать злоупотребления.\n",
      "{'task': {'data': 'Highlight the main idea of the text using no more 10 words and translate main idea into Russian: Sending end user IDs in your requests can be a useful tool to help OpenAI track and detect abuse. This allows OpenAI to provide more actionable feedback to your team if we detect any policy violations in your application.', 'id': 0}, 'summarization_step': {'data': 'Sending end user IDs helps OpenAI track and detect abuse.', 'id': 1}, 'translation_step': {'data': 'Отправка идентификаторов конечных пользователей помогает OpenAI отслеживать и обнаруживать злоупотребления.', 'id': 2}, 'validation_step': {'data': '{\"evaluation\": \"valid\", \"explanation\": \"\"}', 'id': 3}, 'end_step': {'data': 'Отправка идентификаторов конечных пользователей помогает OpenAI отслеживать и обнаруживать злоупотребления.', 'id': 4}}\n"
     ]
    }
   ],
   "source": [
    "scenario_run = scenario.run(task, ScenarioMode.AUTO)\n",
    "print(scenario_run.result)\n",
    "print(scenario_run.history)"
   ]
  },
  {
   "cell_type": "code",
   "execution_count": null,
   "metadata": {},
   "outputs": [],
   "source": []
  }
 ],
 "metadata": {
  "kernelspec": {
   "display_name": "DL",
   "language": "python",
   "name": "python3"
  },
  "language_info": {
   "codemirror_mode": {
    "name": "ipython",
    "version": 3
   },
   "file_extension": ".py",
   "mimetype": "text/x-python",
   "name": "python",
   "nbconvert_exporter": "python",
   "pygments_lexer": "ipython3",
   "version": "3.9.15"
  },
  "orig_nbformat": 4
 },
 "nbformat": 4,
 "nbformat_minor": 2
}
