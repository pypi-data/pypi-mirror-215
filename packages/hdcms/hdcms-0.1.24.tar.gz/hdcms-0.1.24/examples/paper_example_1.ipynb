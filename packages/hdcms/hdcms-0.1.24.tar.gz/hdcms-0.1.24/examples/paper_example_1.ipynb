{
 "cells": [
  {
   "cell_type": "code",
   "execution_count": 1,
   "id": "c9bb8365",
   "metadata": {},
   "outputs": [],
   "source": [
    "import hdcms as hdc\n",
    "import matplotlib.pyplot as plt\n",
    "from PIL import Image"
   ]
  },
  {
   "cell_type": "markdown",
   "id": "835b727f",
   "metadata": {},
   "source": [
    "# Library\n",
    "\n",
    "Now, we will create a list of tuples (`name`, `summary_statistic`) to represent a library of mass spectra.\n",
    "\n",
    "The resulting library will look like:\n",
    "```\n",
    "[\n",
    "  (\"01\", [...]),\n",
    "  (\"02\", [...]),\n",
    "  ...,\n",
    "]\n",
    "```"
   ]
  },
  {
   "cell_type": "code",
   "execution_count": 15,
   "id": "9ebba10f",
   "metadata": {},
   "outputs": [],
   "source": [
    "compounds = {\n",
    "    \"03\": \"Acrylfentanyl, C22H26N2O\", \n",
    "    \"04\": \"p-Fluorobutyryl Fentanyl, C23H29FN2O\", \n",
    "    \"06\": \"3-Furanyl fentanyl, C24H26N2O2\", \n",
    "    \"10\": \"4'-methyl Acetyl Fentanyl, C22H28N2O\",\n",
    "    \"11\": \"Carfentanil, C24H30N2O3\",\n",
    "    \"12\": \"p-Methoxyfentanyl, C23H30N2O2\",\n",
    "    \"14\": \"FIBF, C23H29FN2O\",\n",
    "    \"15\": \"p-Fluorofentanyl, C22H27FN2O\",\n",
    "    \"16\": \"Crotonyl Fentanyl, C23H28N2O\",\n",
    "    \"25\": \"Cyclopropyl Fentanyl, C23H28N2O\",\n",
    "}\n",
    "library = [(number, hdc.regex2stats1d(f\"{number}-\\\\d+.txt\", dir=\"./data/CM1\")) for number in compounds.keys()]"
   ]
  },
  {
   "cell_type": "markdown",
   "id": "e7f3abfb",
   "metadata": {},
   "source": [
    "Next, we'll define a search function for our library. It will return a list of tuples (`name`, `similarity_score`), sorted by similarity score. The output will look like:\n",
    "\n",
    "```\n",
    "[\n",
    "  (\"Acrylfentanyl\", 0.0323),\n",
    "  (\"FIBF\", 0.9881),\n",
    "  ...,\n",
    "]\n",
    "```"
   ]
  },
  {
   "cell_type": "code",
   "execution_count": 17,
   "id": "f038e4ce",
   "metadata": {},
   "outputs": [],
   "source": [
    "def search(query_stat):\n",
    "    results = [(compounds[number], round(hdc.compare(sum_stat, query_stat), 3)) for number, sum_stat in library]\n",
    "    results.sort(key=lambda x: x[1], reverse=True)\n",
    "    return results"
   ]
  },
  {
   "cell_type": "markdown",
   "id": "df94411a",
   "metadata": {},
   "source": [
    "Now we will look at how to use this search function on a previously defined summary statistic. And on a new one."
   ]
  },
  {
   "cell_type": "code",
   "execution_count": 19,
   "id": "ae5cf6f3",
   "metadata": {},
   "outputs": [],
   "source": [
    "acrylfentanyl = hdc.regex2stats1d(f\"03-\\\\d+.txt\", dir=\"./data/CM1\")"
   ]
  },
  {
   "cell_type": "code",
   "execution_count": 20,
   "id": "72f61f44",
   "metadata": {
    "scrolled": false
   },
   "outputs": [
    {
     "data": {
      "text/plain": [
       "[('Acrylfentanyl, C22H26N2O', 1.0),\n",
       " (\"4'-methyl Acetyl Fentanyl, C22H28N2O\", 0.102),\n",
       " ('Carfentanil, C24H30N2O3', 0.093),\n",
       " ('Crotonyl Fentanyl, C23H28N2O', 0.09),\n",
       " ('Cyclopropyl Fentanyl, C23H28N2O', 0.087),\n",
       " ('p-Fluorobutyryl Fentanyl, C23H29FN2O', 0.075),\n",
       " ('p-Fluorofentanyl, C22H27FN2O', 0.073),\n",
       " ('FIBF, C23H29FN2O', 0.057),\n",
       " ('p-Methoxyfentanyl, C23H30N2O2', 0.053),\n",
       " ('3-Furanyl fentanyl, C24H26N2O2', 0.028)]"
      ]
     },
     "execution_count": 20,
     "metadata": {},
     "output_type": "execute_result"
    }
   ],
   "source": [
    "search(acrylfentanyl)"
   ]
  },
  {
   "cell_type": "code",
   "execution_count": 25,
   "id": "5b6b0774",
   "metadata": {},
   "outputs": [
    {
     "name": "stdout",
     "output_type": "stream",
     "text": [
      "Acrylfentanyl & 1.0 \\\\\n",
      "4'-methyl Acetyl Fentanyl & 0.102 \\\\\n",
      "Carfentanil & 0.093 \\\\\n",
      "Crotonyl Fentanyl & 0.09 \\\\\n",
      "Cyclopropyl Fentanyl & 0.087 \\\\\n",
      "p-Fluorobutyryl Fentanyl & 0.075 \\\\\n",
      "p-Fluorofentanyl & 0.073 \\\\\n",
      "FIBF & 0.057 \\\\\n",
      "p-Methoxyfentanyl & 0.053 \\\\\n",
      "3-Furanyl fentanyl & 0.028 \\\\\n"
     ]
    }
   ],
   "source": [
    "# formatted for latex\n",
    "results = search(acrylfentanyl)\n",
    "for (name, score) in results:\n",
    "    print(f\"{name.split(', ')[0]} &\", score, '\\\\\\\\')"
   ]
  },
  {
   "cell_type": "code",
   "execution_count": 21,
   "id": "44aeb0ed",
   "metadata": {
    "scrolled": true
   },
   "outputs": [
    {
     "data": {
      "text/plain": [
       "[('Carfentanil, C24H30N2O3', 0.066),\n",
       " ('Acrylfentanyl, C22H26N2O', 0.05),\n",
       " ('Crotonyl Fentanyl, C23H28N2O', 0.046),\n",
       " ('Cyclopropyl Fentanyl, C23H28N2O', 0.041),\n",
       " (\"4'-methyl Acetyl Fentanyl, C22H28N2O\", 0.04),\n",
       " ('p-Methoxyfentanyl, C23H30N2O2', 0.039),\n",
       " ('3-Furanyl fentanyl, C24H26N2O2', 0.036),\n",
       " ('p-Fluorofentanyl, C22H27FN2O', 0.035),\n",
       " ('p-Fluorobutyryl Fentanyl, C23H29FN2O', 0.031),\n",
       " ('FIBF, C23H29FN2O', 0.023)]"
      ]
     },
     "execution_count": 21,
     "metadata": {},
     "output_type": "execute_result"
    }
   ],
   "source": [
    "compound28 = hdc.regex2stats1d(r\"28-\\d+.txt\", dir=\"./data/CM1\")\n",
    "search(compound28)"
   ]
  },
  {
   "cell_type": "markdown",
   "id": "fd3f7e2e",
   "metadata": {},
   "source": [
    "Notice that in each example, we get a similarity score of 1 for the compound compared with itself. This is expected, since it means they are identical."
   ]
  }
 ],
 "metadata": {
  "kernelspec": {
   "display_name": "Python (hdcms)",
   "language": "python",
   "name": "hdcms"
  },
  "language_info": {
   "codemirror_mode": {
    "name": "ipython",
    "version": 3
   },
   "file_extension": ".py",
   "mimetype": "text/x-python",
   "name": "python",
   "nbconvert_exporter": "python",
   "pygments_lexer": "ipython3",
   "version": "3.9.16"
  }
 },
 "nbformat": 4,
 "nbformat_minor": 5
}
