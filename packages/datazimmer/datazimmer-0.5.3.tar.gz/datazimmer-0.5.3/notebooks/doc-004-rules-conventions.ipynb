{
 "cells": [
  {
   "cell_type": "markdown",
   "id": "7be6c2eb",
   "metadata": {},
   "source": [
    "# Naming Conventions and Restrictions\n",
    "\n",
    "- project names: \n",
    "  - lower case letters and non-duplicated dashes (-) not at either end\n",
    "- environment and namespace names:\n",
    "  - lower case letters and non-duplicated underscores (_) not at either end\n",
    "\n",
    "### Metadata\n",
    "\n",
    "- `[a-b]*_table` table names based on singular form of entity e.g. `dog_table`\n",
    "- see all in dogshow standard\n",
    "\n",
    "\n",
    "# Rules\n",
    "\n",
    "Notes of rules that are necessary for operation. Too strict or stupid rules need to change!\n",
    "\n",
    "- Only one registered function per namespace\n",
    "  - unless for separate environments, like with the helper function of data loaders and environment creation\n",
    "- usually, an env run of a namespace processor (is it called this? TODO) reads and writes to one env, the one it corresponds to, but:\n",
    "  - can only write to its env\n",
    "  - can read from a different one, but then can only read from that one\n",
    "  - this allows for registering a function that creates its environment from a base/complete set\n",
    "- TableNameFeatures should be the name of table feature classes if the table name is to be inferred\n",
    "- No composite features with the same prefix in the same table\n",
    "- Feature name can't contain __ (dunder)"
   ]
  }
 ],
 "metadata": {
  "kernelspec": {
   "display_name": "Python 3",
   "language": "python",
   "name": "python3"
  },
  "language_info": {
   "codemirror_mode": {
    "name": "ipython",
    "version": 3
   },
   "file_extension": ".py",
   "mimetype": "text/x-python",
   "name": "python",
   "nbconvert_exporter": "python",
   "pygments_lexer": "ipython3",
   "version": "3.8.10"
  }
 },
 "nbformat": 4,
 "nbformat_minor": 5
}
