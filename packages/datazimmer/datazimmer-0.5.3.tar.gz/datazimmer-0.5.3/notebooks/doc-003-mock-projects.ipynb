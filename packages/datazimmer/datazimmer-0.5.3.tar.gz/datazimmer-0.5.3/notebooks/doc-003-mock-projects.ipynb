{
    "cells": [
        {
            "cell_type": "markdown",
            "id": "63722b78",
            "metadata": {},
            "source": [
                "# Mock Projects\n",
                "\n",
                "The *dogshow standard* projects and explorer are intended to showcase all features of the package.\n",
                "\n",
                "They have their test registry (TODO: should have sscu-budapest GitHub repo address)\n",
                "\n",
                "\n",
                "- dog-show\n",
                "- dograce\n",
                "- dogsuccess\n",
                "- dogcombine"
            ]
        },
        {
            "cell_type": "markdown",
            "id": "185d756f",
            "metadata": {},
            "source": [
                "In the code, chenges from versions v0.0, v0.1 and v1.0 are noted with comments \n",
                "- `# add in v0.1: ` at the beginning of a line or `# remove in v1.0` at the end\n",
                "\n",
                "- to test for\n",
                "- rebuilding the code with the same version\n",
                "- trying (and failing) to publish a different codebase for a previously published version\n",
                "- test for changed dependencies"
            ]
        }
    ],
    "metadata": {
        "kernelspec": {
            "display_name": "Python 3",
            "language": "python",
            "name": "python3"
        },
        "language_info": {
            "codemirror_mode": {
                "name": "ipython",
                "version": 3
            },
            "file_extension": ".py",
            "mimetype": "text/x-python",
            "name": "python",
            "nbconvert_exporter": "python",
            "pygments_lexer": "ipython3",
            "version": "3.8.10"
        }
    },
    "nbformat": 4,
    "nbformat_minor": 5
}