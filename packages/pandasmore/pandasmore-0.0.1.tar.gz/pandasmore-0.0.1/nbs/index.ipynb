{
 "cells": [
  {
   "cell_type": "code",
   "execution_count": null,
   "metadata": {},
   "outputs": [],
   "source": [
    "#| hide\n",
    "# run the following line to clean up README.md file every time you change this index (otherwise dataframes are not rendered correctly)\n",
    "# sed -i \"/<style scoped>/,/<\\/style>/d\" README.md "
   ]
  },
  {
   "attachments": {},
   "cell_type": "markdown",
   "metadata": {},
   "source": [
    "# pandasmore\n",
    "\n",
    "> Extends pandas with common functions used in finance and economics research"
   ]
  },
  {
   "attachments": {},
   "cell_type": "markdown",
   "metadata": {},
   "source": [
    "The full documentation site is [here](https://ionmihai.github.io/pandasmore/).\n",
    "\n",
    "Here is a short description of some of the main functions (see below for more details):\n",
    "\n",
    "- `panel_setup`: cleans up dates and panel id's and sets them as the index (panel id, period date)\n",
    "- `lag`: robust lagging that accounts for panel structure, unsorted or duplicate dates, or gaps in the time-series"
   ]
  },
  {
   "attachments": {},
   "cell_type": "markdown",
   "metadata": {},
   "source": [
    "## Install"
   ]
  },
  {
   "attachments": {},
   "cell_type": "markdown",
   "metadata": {},
   "source": [
    "```sh\n",
    "pip install pandasmore\n",
    "```"
   ]
  },
  {
   "attachments": {},
   "cell_type": "markdown",
   "metadata": {},
   "source": [
    "## How to use"
   ]
  },
  {
   "attachments": {},
   "cell_type": "markdown",
   "metadata": {},
   "source": [
    "First, we set up an example dataset to showcase the functions in this module."
   ]
  },
  {
   "cell_type": "code",
   "execution_count": null,
   "metadata": {},
   "outputs": [],
   "source": [
    "import pandas as pd\n",
    "import numpy as np\n",
    "from pandasmore.core import *"
   ]
  },
  {
   "cell_type": "code",
   "execution_count": null,
   "metadata": {},
   "outputs": [
    {
     "data": {
      "text/html": [
       "<div>\n",
       "<style scoped>\n",
       "    .dataframe tbody tr th:only-of-type {\n",
       "        vertical-align: middle;\n",
       "    }\n",
       "\n",
       "    .dataframe tbody tr th {\n",
       "        vertical-align: top;\n",
       "    }\n",
       "\n",
       "    .dataframe thead th {\n",
       "        text-align: right;\n",
       "    }\n",
       "</style>\n",
       "<table border=\"1\" class=\"dataframe\">\n",
       "  <thead>\n",
       "    <tr style=\"text-align: right;\">\n",
       "      <th></th>\n",
       "      <th></th>\n",
       "      <th>A</th>\n",
       "      <th>B</th>\n",
       "    </tr>\n",
       "    <tr>\n",
       "      <th>permno</th>\n",
       "      <th>Mdate</th>\n",
       "      <th></th>\n",
       "      <th></th>\n",
       "    </tr>\n",
       "  </thead>\n",
       "  <tbody>\n",
       "    <tr>\n",
       "      <th rowspan=\"4\" valign=\"top\">1</th>\n",
       "      <th>2010-01</th>\n",
       "      <td>0.065783</td>\n",
       "      <td>0.204804</td>\n",
       "    </tr>\n",
       "    <tr>\n",
       "      <th>2010-02</th>\n",
       "      <td>0.394326</td>\n",
       "      <td>0.129398</td>\n",
       "    </tr>\n",
       "    <tr>\n",
       "      <th>2010-02</th>\n",
       "      <td>0.311802</td>\n",
       "      <td>0.882613</td>\n",
       "    </tr>\n",
       "    <tr>\n",
       "      <th>2010-04</th>\n",
       "      <td>0.573854</td>\n",
       "      <td>0.107920</td>\n",
       "    </tr>\n",
       "    <tr>\n",
       "      <th rowspan=\"4\" valign=\"top\">2</th>\n",
       "      <th>2010-01</th>\n",
       "      <td>0.407374</td>\n",
       "      <td>0.270169</td>\n",
       "    </tr>\n",
       "    <tr>\n",
       "      <th>2010-02</th>\n",
       "      <td>0.345566</td>\n",
       "      <td>0.931718</td>\n",
       "    </tr>\n",
       "    <tr>\n",
       "      <th>2010-02</th>\n",
       "      <td>0.042698</td>\n",
       "      <td>0.989230</td>\n",
       "    </tr>\n",
       "    <tr>\n",
       "      <th>2010-04</th>\n",
       "      <td>0.801888</td>\n",
       "      <td>0.574477</td>\n",
       "    </tr>\n",
       "  </tbody>\n",
       "</table>\n",
       "</div>"
      ],
      "text/plain": [
       "                       A         B\n",
       "permno Mdate                      \n",
       "1      2010-01  0.065783  0.204804\n",
       "       2010-02  0.394326  0.129398\n",
       "       2010-02  0.311802  0.882613\n",
       "       2010-04  0.573854  0.107920\n",
       "2      2010-01  0.407374  0.270169\n",
       "       2010-02  0.345566  0.931718\n",
       "       2010-02  0.042698  0.989230\n",
       "       2010-04  0.801888  0.574477"
      ]
     },
     "execution_count": null,
     "metadata": {},
     "output_type": "execute_result"
    }
   ],
   "source": [
    "df = pd.DataFrame(np.random.rand(8,2), \n",
    "                  columns=list('AB'), \n",
    "                  index=pd.MultiIndex.from_product(\n",
    "                      [[1,2],\n",
    "                       pd.to_datetime(['2010-01','2010-02','2010-02','2010-04']\n",
    "                                      ).to_period('M')],\n",
    "                      names=['permno','Mdate']))\n",
    "df"
   ]
  },
  {
   "cell_type": "code",
   "execution_count": null,
   "metadata": {},
   "outputs": [
    {
     "data": {
      "text/plain": [
       "permno  Mdate  \n",
       "1       2010-01         NaN\n",
       "        2010-02    0.065783\n",
       "        2010-02         NaN\n",
       "        2010-04         NaN\n",
       "2       2010-01         NaN\n",
       "        2010-02    0.407374\n",
       "        2010-02         NaN\n",
       "        2010-04         NaN\n",
       "Name: A_lag1, dtype: float64"
      ]
     },
     "execution_count": null,
     "metadata": {},
     "output_type": "execute_result"
    }
   ],
   "source": [
    "lag(df['A'])"
   ]
  },
  {
   "cell_type": "code",
   "execution_count": null,
   "metadata": {},
   "outputs": [
    {
     "data": {
      "text/plain": [
       "permno  Mdate  \n",
       "1       2010-01         NaN\n",
       "        2010-02    0.065783\n",
       "        2010-02    0.065783\n",
       "        2010-04         NaN\n",
       "2       2010-01         NaN\n",
       "        2010-02    0.407374\n",
       "        2010-02    0.407374\n",
       "        2010-04         NaN\n",
       "Name: A_lag1, dtype: float64"
      ]
     },
     "execution_count": null,
     "metadata": {},
     "output_type": "execute_result"
    }
   ],
   "source": [
    "lag(df['A'], fast=False)"
   ]
  },
  {
   "cell_type": "code",
   "execution_count": null,
   "metadata": {},
   "outputs": [],
   "source": []
  }
 ],
 "metadata": {
  "kernelspec": {
   "display_name": "python3",
   "language": "python",
   "name": "python3"
  }
 },
 "nbformat": 4,
 "nbformat_minor": 4
}
