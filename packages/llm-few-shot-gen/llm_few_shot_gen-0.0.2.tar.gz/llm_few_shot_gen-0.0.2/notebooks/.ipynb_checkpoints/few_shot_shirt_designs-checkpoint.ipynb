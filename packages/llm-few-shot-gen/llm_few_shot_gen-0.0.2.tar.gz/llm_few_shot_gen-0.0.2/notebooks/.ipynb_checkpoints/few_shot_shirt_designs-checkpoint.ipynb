{
 "cells": [
  {
   "cell_type": "markdown",
   "id": "cbd470da-fde7-4b54-b9dc-0c6dec20d37b",
   "metadata": {},
   "source": [
    "# Midjourney Few Shot Example\n",
    "This notebook is a showcase for the midjourney prompt generation module. We will create a `MidjourneyPromptGenerator` instance and create new shirt design Text-to-Image prompts by providing few example prompts. "
   ]
  },
  {
   "cell_type": "markdown",
   "id": "4ade1a3f-1a94-41b1-b4c1-52e3d6316484",
   "metadata": {},
   "source": [
    "## Setup\n",
    "import required modules and create MidjourneyPromptGenerator instance"
   ]
  },
  {
   "cell_type": "code",
   "execution_count": 4,
   "id": "1dea6131-02aa-43f0-bd10-dde7bf849715",
   "metadata": {},
   "outputs": [],
   "source": [
    "import os\n",
    "from llm_few_shot_gen.prompt.midjourney.utils import get_shirt_design_prompt_examples\n",
    "from llm_few_shot_gen.langchain_fns import get_chat_gpt_model\n",
    "from llm_few_shot_gen.prompt.midjourney import MidjourneyPromptGenerator"
   ]
  },
  {
   "cell_type": "markdown",
   "id": "35cd77ee-bc80-4964-b7fd-52b19ae4f5ea",
   "metadata": {},
   "source": [
    "Add your open ai key from https://platform.openai.com/account/api-keys"
   ]
  },
  {
   "cell_type": "code",
   "execution_count": 2,
   "id": "ccea7c22-60aa-4917-ba77-8bc691fcab64",
   "metadata": {},
   "outputs": [],
   "source": [
    "os.environ[\"OPENAI_API_KEY\"] = \"\""
   ]
  },
  {
   "cell_type": "code",
   "execution_count": 3,
   "id": "8b4bb45a-769a-4944-b80f-2e9ab05bed35",
   "metadata": {},
   "outputs": [],
   "source": [
    "llm = get_chat_gpt_model(temperature=0.7)\n",
    "prompt_generator = MidjourneyPromptGenerator(llm)"
   ]
  },
  {
   "cell_type": "markdown",
   "id": "f045ca3f-4ee2-48e9-9afe-b56217e87eb2",
   "metadata": {},
   "source": [
    "## Add context and few shot examples"
   ]
  },
  {
   "cell_type": "markdown",
   "id": "f7c3993b-3cdb-4eec-b9e4-7349de33e6e6",
   "metadata": {},
   "source": [
    "### Context of Midjourney"
   ]
  },
  {
   "cell_type": "code",
   "execution_count": 4,
   "id": "dd97bcdd-7a15-4e4b-95d8-fe94de24ef76",
   "metadata": {},
   "outputs": [],
   "source": [
    "prompt_generator.set_context()"
   ]
  },
  {
   "cell_type": "markdown",
   "id": "ae75a067-2098-4844-8ac9-2a218df43e8d",
   "metadata": {},
   "source": [
    "### Few shot prompt examples"
   ]
  },
  {
   "cell_type": "code",
   "execution_count": 5,
   "id": "97aad3cf-a3e6-43e4-91df-2284e4440049",
   "metadata": {},
   "outputs": [
    {
     "name": "stdout",
     "output_type": "stream",
     "text": [
      "Example 0\n",
      "A minimalistic festival T-shirt design (content: stylized tree, small town with charming buildings, subtle festival elements like banners and lanterns)(medium: vector illustration)(style: inspired by Studio Ghibli's enchanting artwork and sticker art)(resolution: high-quality 8K image)(lines: smooth, clean lines)(details: highly detailed, with intricate textures and patterns)(colors: designed to complement background color #343235, using a muted, earthy color palette with selective pops of brighter hues)(composition: centered tree as the focal point, encircled by the quaint small town, balanced and visually appealing layout) --q 2 --s 750 --v 5\n",
      "Example 1\n",
      "A cartoonish motocyclist, bright colors. T - shirt design graphic, vector, contour, white background\n",
      "Example 2\n",
      "realistic space unicorn cartoon character, vector art, process art, t shirt design, 8K, best quality, trending, perfect line work, perfect stroke, vector illustration, flat design, digital drawing, t shirt design --niji 5 --v 5\n"
     ]
    }
   ],
   "source": [
    "prompt_examples = get_shirt_design_prompt_examples()\n",
    "for i, example in enumerate(prompt_examples[0:3]):\n",
    "    print(f\"Example {i}\")\n",
    "    print(example)"
   ]
  },
  {
   "cell_type": "code",
   "execution_count": 10,
   "id": "51e9c14b-a81d-475d-b765-308c0b62411f",
   "metadata": {},
   "outputs": [],
   "source": [
    "prompt_generator.set_few_shot_examples(prompt_examples)"
   ]
  },
  {
   "cell_type": "markdown",
   "id": "0408eab4-f69f-4b2e-8ace-f45bec8ec353",
   "metadata": {},
   "source": [
    "## Prompt generation playground\n",
    "Choose a simple text which gets transformed into high quality midjournes prompt."
   ]
  },
  {
   "cell_type": "code",
   "execution_count": 20,
   "id": "75e9c0dd-882a-476d-92d8-7f7b61b6053e",
   "metadata": {},
   "outputs": [],
   "source": [
    "text = \"\"\"Sloth on tree cartoon\"\"\""
   ]
  },
  {
   "cell_type": "code",
   "execution_count": 13,
   "id": "9ff973a4-3358-49db-af29-dcf68baf0476",
   "metadata": {
    "scrolled": true
   },
   "outputs": [
    {
     "data": {
      "text/plain": [
       "'A sloth hanging upside down on a tree branch, surrounded by tropical foliage. The sloth is looking directly at the viewer, its eyes wide open, and its fur is soft and fluffy. The background is blurry, with a focus on the sloth, and there are dappled rays of sunlight filtering through the leaves. The image should be highly detailed and realistic.'"
      ]
     },
     "execution_count": 13,
     "metadata": {},
     "output_type": "execute_result"
    }
   ],
   "source": [
    "prompt_generator.generate(text)"
   ]
  },
  {
   "cell_type": "code",
   "execution_count": null,
   "id": "a16ac046-2e8c-46e5-8cc0-cd4bf463a921",
   "metadata": {},
   "outputs": [],
   "source": []
  }
 ],
 "metadata": {
  "kernelspec": {
   "display_name": "Python 3 (ipykernel)",
   "language": "python",
   "name": "python3"
  },
  "language_info": {
   "codemirror_mode": {
    "name": "ipython",
    "version": 3
   },
   "file_extension": ".py",
   "mimetype": "text/x-python",
   "name": "python",
   "nbconvert_exporter": "python",
   "pygments_lexer": "ipython3",
   "version": "3.10.10"
  }
 },
 "nbformat": 4,
 "nbformat_minor": 5
}
