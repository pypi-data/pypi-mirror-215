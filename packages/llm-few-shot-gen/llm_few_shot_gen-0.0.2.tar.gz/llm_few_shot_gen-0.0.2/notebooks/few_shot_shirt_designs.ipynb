{
 "cells": [
  {
   "cell_type": "markdown",
   "id": "cbd470da-fde7-4b54-b9dc-0c6dec20d37b",
   "metadata": {},
   "source": [
    "# Midjourney Few Shot Example\n",
    "This notebook is a showcase for the midjourney prompt generation module. We will create a `MidjourneyPromptGenerator` instance and create new shirt design Text-to-Image prompts by providing few example prompts. "
   ]
  },
  {
   "cell_type": "markdown",
   "id": "4ade1a3f-1a94-41b1-b4c1-52e3d6316484",
   "metadata": {},
   "source": [
    "## Setup\n",
    "import required modules and create MidjourneyPromptGenerator instance"
   ]
  },
  {
   "cell_type": "code",
   "execution_count": 1,
   "id": "1dea6131-02aa-43f0-bd10-dde7bf849715",
   "metadata": {},
   "outputs": [],
   "source": [
    "import os\n",
    "from IPython.display import JSON\n",
    "from langchain.chat_models import ChatOpenAI\n",
    "from llm_few_shot_gen.few_shot_examples.utils import get_shirt_design_prompt_examples\n",
    "from llm_few_shot_gen.generators import MidjourneyPromptGenerator\n",
    "from llm_few_shot_gen.models.output import ImagePromptOutputModel"
   ]
  },
  {
   "cell_type": "markdown",
   "id": "35cd77ee-bc80-4964-b7fd-52b19ae4f5ea",
   "metadata": {},
   "source": [
    "Add your open ai key from https://platform.openai.com/account/api-keys"
   ]
  },
  {
   "cell_type": "code",
   "execution_count": 14,
   "id": "ccea7c22-60aa-4917-ba77-8bc691fcab64",
   "metadata": {},
   "outputs": [],
   "source": [
    "os.environ[\"OPENAI_API_KEY\"] = \"\""
   ]
  },
  {
   "cell_type": "code",
   "execution_count": 15,
   "id": "8b4bb45a-769a-4944-b80f-2e9ab05bed35",
   "metadata": {},
   "outputs": [],
   "source": [
    "llm = ChatOpenAI(temperature=0.7)\n",
    "prompt_generator = MidjourneyPromptGenerator(llm)"
   ]
  },
  {
   "cell_type": "markdown",
   "id": "f045ca3f-4ee2-48e9-9afe-b56217e87eb2",
   "metadata": {},
   "source": [
    "## Add context and few shot examples"
   ]
  },
  {
   "cell_type": "markdown",
   "id": "f7c3993b-3cdb-4eec-b9e4-7349de33e6e6",
   "metadata": {},
   "source": [
    "### Context of Midjourney"
   ]
  },
  {
   "cell_type": "markdown",
   "id": "ae75a067-2098-4844-8ac9-2a218df43e8d",
   "metadata": {},
   "source": [
    "### Few shot prompt examples"
   ]
  },
  {
   "cell_type": "code",
   "execution_count": 16,
   "id": "97aad3cf-a3e6-43e4-91df-2284e4440049",
   "metadata": {},
   "outputs": [
    {
     "name": "stdout",
     "output_type": "stream",
     "text": [
      "Example 0\n",
      "A minimalistic festival T-shirt design (content: stylized tree, small town with charming buildings, subtle festival elements like banners and lanterns)(medium: vector illustration)(style: inspired by Studio Ghibli's enchanting artwork and sticker art)(resolution: high-quality 8K image)(lines: smooth, clean lines)(details: highly detailed, with intricate textures and patterns)(colors: designed to complement background color #343235, using a muted, earthy color palette with selective pops of brighter hues)(composition: centered tree as the focal point, encircled by the quaint small town, balanced and visually appealing layout) --q 2 --s 750 --v 5\n",
      "Example 1\n",
      "A cartoonish motocyclist, bright colors. T - shirt design graphic, vector, contour, white background\n",
      "Example 2\n",
      "realistic space unicorn cartoon character, vector art, process art, t shirt design, 8K, best quality, trending, perfect line work, perfect stroke, vector illustration, flat design, digital drawing, t shirt design --niji 5 --v 5\n"
     ]
    }
   ],
   "source": [
    "prompt_examples = get_shirt_design_prompt_examples()\n",
    "for i, example in enumerate(prompt_examples[0:3]):\n",
    "    print(f\"Example {i}\")\n",
    "    print(example)"
   ]
  },
  {
   "cell_type": "code",
   "execution_count": 17,
   "id": "51e9c14b-a81d-475d-b765-308c0b62411f",
   "metadata": {},
   "outputs": [],
   "source": [
    "prompt_generator.set_few_shot_examples(prompt_examples)"
   ]
  },
  {
   "cell_type": "markdown",
   "id": "0408eab4-f69f-4b2e-8ace-f45bec8ec353",
   "metadata": {},
   "source": [
    "## Prompt generation playground\n",
    "Choose a simple text which gets transformed into high quality midjournes prompt."
   ]
  },
  {
   "cell_type": "code",
   "execution_count": 18,
   "id": "75e9c0dd-882a-476d-92d8-7f7b61b6053e",
   "metadata": {},
   "outputs": [],
   "source": [
    "text = \"\"\"Sloth on tree cartoon\"\"\"\n",
    "parsed_output: ImagePromptOutputModel = prompt_generator.generate(text)"
   ]
  },
  {
   "cell_type": "code",
   "execution_count": 19,
   "id": "9ff973a4-3358-49db-af29-dcf68baf0476",
   "metadata": {
    "scrolled": true
   },
   "outputs": [
    {
     "data": {
      "application/json": {
       "few_shot_artists": [
        "Studio Ghibli",
        "Gediminas Pranckevicius",
        "Moebius"
       ],
       "few_shot_styles": [
        "cartoonish",
        "minimalistic",
        "cyberpunk",
        "realistic"
       ],
       "image_prompts": [
        "A cartoonish sloth sitting on a tree branch, bright colors. T-shirt design graphic, vector, contour, white background, in the style of Studio Ghibli's enchanting artwork.",
        "A realistic sloth hanging upside down from a tree branch, t-shirt design graphic, vector, contour, white background, in the style of wildlife illustrations.",
        "A sloth sleeping on a tree branch, vector illustration, flat design, digital drawing, t-shirt design. Use a minimalistic style with soft, soothing colors.",
        "A cyberpunk sloth perched on a neon-lit tree, digital drawing, t-shirt design. Use a futuristic color palette and add some cyberpunk elements to the tree.",
        "A sloth with a kind facial expression hanging from a tree, airbrush art, fantasy art, t-shirt design. Use pastel hues and add some fantasy elements to the tree."
       ]
      },
      "text/plain": [
       "<IPython.core.display.JSON object>"
      ]
     },
     "execution_count": 19,
     "metadata": {
      "application/json": {
       "expanded": false,
       "root": "root"
      }
     },
     "output_type": "execute_result"
    }
   ],
   "source": [
    "JSON(parsed_output.dict())"
   ]
  },
  {
   "cell_type": "code",
   "execution_count": null,
   "id": "a16ac046-2e8c-46e5-8cc0-cd4bf463a921",
   "metadata": {},
   "outputs": [],
   "source": []
  }
 ],
 "metadata": {
  "kernelspec": {
   "display_name": "Python 3 (ipykernel)",
   "language": "python",
   "name": "python3"
  },
  "language_info": {
   "codemirror_mode": {
    "name": "ipython",
    "version": 3
   },
   "file_extension": ".py",
   "mimetype": "text/x-python",
   "name": "python",
   "nbconvert_exporter": "python",
   "pygments_lexer": "ipython3",
   "version": "3.10.10"
  }
 },
 "nbformat": 4,
 "nbformat_minor": 5
}
