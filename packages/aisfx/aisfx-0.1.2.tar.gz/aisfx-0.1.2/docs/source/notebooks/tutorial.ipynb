{
 "cells": [
  {
   "cell_type": "markdown",
   "metadata": {},
   "source": [
    "# Tutorial"
   ]
  },
  {
   "cell_type": "code",
   "execution_count": null,
   "metadata": {},
   "outputs": [],
   "source": [
    "import sys\n",
    "import os\n",
    "sys.path.insert(0, os.path.abspath('../../../src'))"
   ]
  },
  {
   "cell_type": "markdown",
   "metadata": {},
   "source": [
    "In your conda environment, to extract embeddings according to the ISMIR paper, simply call `aisfx.inference.main()` on a directory consisting of only audio-files. No other function needs to be called. Input audio pre-processing will already be done for you, i.e., down-mix to 1 channel, normalize, re-sample to 44100 Hz."
   ]
  },
  {
   "cell_type": "code",
   "execution_count": 5,
   "metadata": {},
   "outputs": [],
   "source": [
    "from aisfx import inference\n",
    "\n",
    "path_dirAudio = input('Directory to audio-files for processing: ')\n",
    "path_dirExport = input('Directory to store extracted embeddings: ')\n",
    "inference.main(path_dirAudio, path_dirExport,\n",
    "               emb_hop_size=0.5,\n",
    "               use_cuda=True)"
   ]
  },
  {
   "cell_type": "markdown",
   "metadata": {},
   "source": [
    "Feel free to modify the hop size for computing embeddings."
   ]
  },
  {
   "cell_type": "code",
   "execution_count": 7,
   "metadata": {},
   "outputs": [],
   "source": [
    "from aisfx import inference\n",
    "\n",
    "\"\"\" The input to the model is approximately 2s of audio. So,\n",
    "emb_hop_size = 0.5  (hop by 1s)\n",
    "emb_hop_size = 0.05  (hop by 0.1s)\n",
    "\"\"\"\n",
    "\n",
    "inference.main(path_dirAudio, path_dirExport,\n",
    "               emb_hop_size=0.05,\n",
    "               use_cuda=True)    "
   ]
  },
  {
   "cell_type": "markdown",
   "metadata": {},
   "source": [
    "Other parameters to modify include:\n",
    "\n",
    "- Computing spectrograms with Essentia vs Librosa (Librosa may yield lower results, models were initially trained with Essentia): spectrogram_type\n",
    "\n",
    "- Changing the normalization of spectrograms before input to the model for embedding extraction: spec_norm, norm_mn, norm_mx\n",
    "\n",
    "- Dropping partial blocks when computing embeddings: drop_partial_block\n",
    "\n",
    "- Using the model with cpu or CUDA support: use_cuda"
   ]
  },
  {
   "cell_type": "code",
   "execution_count": null,
   "metadata": {},
   "outputs": [],
   "source": [
    "from aisfx import inference\n",
    "\n",
    "inference.main(path_dirAudio, path_dirExport,\n",
    "               spectrogram_type='essentia',\n",
    "               spec_norm='original', norm_mn=None, norm_mx=None,\n",
    "               drop_partial_block=True,\n",
    "               emb_hop_size=0.5,\n",
    "               use_cuda=True)    "
   ]
  }
 ],
 "metadata": {
  "kernelspec": {
   "display_name": "Python 3.9.6 ('aisfx')",
   "language": "python",
   "name": "python3"
  },
  "language_info": {
   "codemirror_mode": {
    "name": "ipython",
    "version": 3
   },
   "file_extension": ".py",
   "mimetype": "text/x-python",
   "name": "python",
   "nbconvert_exporter": "python",
   "pygments_lexer": "ipython3",
   "version": "3.9.6"
  },
  "orig_nbformat": 4,
  "vscode": {
   "interpreter": {
    "hash": "ea0ff5ab731df74864406ff79f2e03155f0f04021c7684d9df8b0d9ffffac299"
   }
  }
 },
 "nbformat": 4,
 "nbformat_minor": 2
}
