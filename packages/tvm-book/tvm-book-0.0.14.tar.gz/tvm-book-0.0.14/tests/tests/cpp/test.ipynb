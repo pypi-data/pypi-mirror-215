{
 "cells": [
  {
   "cell_type": "markdown",
   "metadata": {},
   "source": [
    "# Python 调用 C++"
   ]
  },
  {
   "cell_type": "code",
   "execution_count": 1,
   "metadata": {},
   "outputs": [
    {
     "data": {
      "text/plain": [
       "<CDLL './libs/libtvm_ext.so', handle 564e8b302db0 at 0x7f2ac3550d00>"
      ]
     },
     "execution_count": 1,
     "metadata": {},
     "output_type": "execute_result"
    }
   ],
   "source": [
    "from utils import set_vta\n",
    "import numpy as np\n",
    "import torch\n",
    "from torch import nn\n",
    "import tvm\n",
    "from tvm.ir.module import IRModule\n",
    "# from tvm.script import tir as T\n",
    "from tvm import te, topi\n",
    "from utils.dll import load_dll\n",
    "load_dll(\"./libs/libtvm_ext.so\")"
   ]
  },
  {
   "cell_type": "code",
   "execution_count": 2,
   "metadata": {},
   "outputs": [],
   "source": [
    "myadd = tvm.get_global_func(\"myadd\")"
   ]
  },
  {
   "cell_type": "code",
   "execution_count": 3,
   "metadata": {},
   "outputs": [
    {
     "name": "stdout",
     "output_type": "stream",
     "text": [
      "args: 22 23"
     ]
    },
    {
     "data": {
      "text/plain": [
       "45"
      ]
     },
     "execution_count": 3,
     "metadata": {},
     "output_type": "execute_result"
    }
   ],
   "source": [
    "myadd(22, 23)"
   ]
  },
  {
   "cell_type": "code",
   "execution_count": 4,
   "metadata": {},
   "outputs": [],
   "source": [
    "@tvm.register_func(\"tvm.contrib.add\")\n",
    "def add(x, y, z):\n",
    "    print(f\"x:\\n{x}\\ny:\\n{y}\")\n",
    "    tvm.nd.array(x.asnumpy() + y.asnumpy()).copyto(z)"
   ]
  },
  {
   "cell_type": "code",
   "execution_count": 5,
   "metadata": {},
   "outputs": [],
   "source": [
    "n = 10\n",
    "A = te.placeholder((10,), name=\"A\")\n",
    "B = te.placeholder((10,), name=\"B\")\n",
    "C = te.extern(\n",
    "    A.shape,\n",
    "    [A, B],\n",
    "    lambda ins, outs: tvm.tir.call_packed(\"tvm.contrib.add\", ins[0], ins[1], outs[0]),\n",
    "    name=\"C\",\n",
    ")"
   ]
  },
  {
   "cell_type": "code",
   "execution_count": 6,
   "metadata": {},
   "outputs": [
    {
     "name": "stdout",
     "output_type": "stream",
     "text": [
      "x:\n",
      "[0.444      0.8509563  0.18271057 0.26373902 0.3103753  0.9174619\n",
      " 0.20557065 0.37674654 0.1447992  0.2188932 ]\n",
      "y:\n",
      "[0.39630783 0.57694376 0.84100753 0.00503178 0.03568824 0.60567266\n",
      " 0.09110498 0.76846087 0.7763797  0.24185385]\n"
     ]
    }
   ],
   "source": [
    "sch = te.create_schedule(C.op)\n",
    "te_func = tvm.lower(sch, [A, B, C])\n",
    "# te_func = te.create_prim_func([A, B])\n",
    "# te_func.show()\n",
    "f = tvm.build(te_func, \"llvm\")\n",
    "a_np = np.random.uniform(size=(n,)).astype(A.dtype)\n",
    "b_np = np.random.uniform(size=(n,)).astype(B.dtype)\n",
    "c_np = a_np + b_np\n",
    "a = tvm.nd.array(a_np)\n",
    "b = tvm.nd.array(b_np)\n",
    "c = tvm.nd.array(np.random.uniform(size=(n,)).astype(C.dtype))\n",
    "f(a, b, c)\n",
    "np.testing.assert_allclose(c.asnumpy(), c_np, rtol=1e-5)"
   ]
  },
  {
   "cell_type": "code",
   "execution_count": null,
   "metadata": {},
   "outputs": [],
   "source": []
  }
 ],
 "metadata": {
  "kernelspec": {
   "display_name": "Python 3.10.4 ('tvmx': conda)",
   "language": "python",
   "name": "python3"
  },
  "language_info": {
   "codemirror_mode": {
    "name": "ipython",
    "version": 3
   },
   "file_extension": ".py",
   "mimetype": "text/x-python",
   "name": "python",
   "nbconvert_exporter": "python",
   "pygments_lexer": "ipython3",
   "version": "3.10.4"
  },
  "orig_nbformat": 4,
  "vscode": {
   "interpreter": {
    "hash": "e579259ee6098e2b9319de590d145b4b096774fe457bdf04260e3ba5c171e887"
   }
  }
 },
 "nbformat": 4,
 "nbformat_minor": 2
}
