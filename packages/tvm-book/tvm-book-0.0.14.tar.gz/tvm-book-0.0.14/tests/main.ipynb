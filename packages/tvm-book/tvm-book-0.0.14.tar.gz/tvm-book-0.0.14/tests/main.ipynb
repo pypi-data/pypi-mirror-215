{
 "cells": [
  {
   "cell_type": "code",
   "execution_count": null,
   "metadata": {},
   "outputs": [],
   "source": [
    "import logging\n",
    "\n",
    "LOG = logging.getLogger(\"main\")"
   ]
  },
  {
   "cell_type": "code",
   "execution_count": null,
   "metadata": {},
   "outputs": [],
   "source": [
    "# import onnx\n",
    "# # 参考 [issuue 13431](https://discuss.tvm.apache.org/t/error-when-trying-to-tune-the-resnet-model/13431) \n",
    "# # 解决 `tvmc tune` resnet50 ERROR 的问题。\n",
    "# onnx_model = onnx.load_model('params/resnet50-v2-7.onnx')\n",
    "# onnx_model.graph.input[0].type.tensor_type.shape.dim[0].dim_value = 1\n",
    "# onnx_model.graph.output[0].type.tensor_type.shape.dim[0].dim_value = 1\n",
    "# onnx.checker.check_model(onnx_model)\n",
    "# onnx.save(onnx_model, 'params/resnet50-v2-7-frozen.onnx')"
   ]
  },
  {
   "cell_type": "code",
   "execution_count": null,
   "metadata": {},
   "outputs": [],
   "source": [
    "from tvm.driver import tvmc\n",
    "# import warnings\n",
    "# warnings.filterwarnings('ignore')"
   ]
  },
  {
   "cell_type": "code",
   "execution_count": null,
   "metadata": {},
   "outputs": [],
   "source": [
    "import onnx\n",
    "\n",
    "model_path = 'params/resnet50-v2-7.onnx'\n",
    "onnx_model = onnx.load(model_path)\n",
    "# Step 1: Load\n",
    "model = tvmc.load(model_path, shape_dict={\"data\": [1, 3, 224, 224]})"
   ]
  },
  {
   "cell_type": "code",
   "execution_count": null,
   "metadata": {},
   "outputs": [],
   "source": [
    "model.summary()"
   ]
  },
  {
   "cell_type": "code",
   "execution_count": null,
   "metadata": {},
   "outputs": [],
   "source": [
    "# # Step 2: Compile\n",
    "# package = tvmc.compile(model, target=\"llvm\")"
   ]
  },
  {
   "cell_type": "code",
   "execution_count": null,
   "metadata": {},
   "outputs": [],
   "source": [
    "# #Step 3: Run\n",
    "# results = tvmc.run(package, device=\"cpu\")"
   ]
  },
  {
   "cell_type": "code",
   "execution_count": 8,
   "metadata": {},
   "outputs": [
    {
     "name": "stdout",
     "output_type": "stream",
     "text": [
      "*E*E*E*E*E*E*E*E*E*E\n",
      "Time elapsed for measurement: 34.49 s\n",
      "----------------------------------------------------------------------\n",
      "------------------------------  [ Train cost model ]\n",
      "----------------------------------------------------------------------\n",
      "Time elapsed for training: 4.46 s\n",
      "----------------------------------------------------------------------\n",
      "|  ID  |                       Task Description                        | Latency (ms) | Speed (GFLOPS) | Trials |\n",
      "-----------------------------------------------------------------------------------------------------------------\n",
      "|    0 |           vm_mod_fused_nn_contrib_conv2d_NCHWc_add_nn_relu_13 |        1.719 |         134.53 |    704 |\n",
      "------------------------------  [ Task Scheduler ]\n",
      "----------------------------------------------------------------------\n",
      "|    1 |            vm_mod_fused_nn_contrib_conv2d_NCHWc_add_nn_relu_4 |        0.513 |         401.97 |    256 |\n",
      "|    2 |              vm_mod_fused_nn_contrib_conv2d_NCHWc_add_nn_relu |        0.538 |         441.72 |    192 |\n",
      "|    3 |           vm_mod_fused_nn_contrib_conv2d_NCHWc_add_nn_relu_14 |        0.432 |         237.82 |    384 |\n",
      "|    4 |        vm_mod_fused_nn_contrib_conv2d_NCHWc_add_add_nn_relu_2 |        0.256 |         403.57 |    192 |\n",
      "|    5 | vm_mod_fused_nn_contrib_conv2d_NCHWc_add_multiply_add_nn_relu |        0.382 |         270.37 |    192 |\n",
      "|    6 |            vm_mod_fused_nn_contrib_conv2d_NCHWc_add_nn_relu_8 |        0.560 |         367.64 |    192 |\n",
      "|    7 |                             vm_mod_fused_nn_global_avg_pool2d |        0.008 |          -0.00 |     64 |\n",
      "|    8 |                          vm_mod_fused_nn_contrib_conv2d_NCHWc |        0.288 |         356.44 |    128 |\n",
      "|    9 |                        vm_mod_fused_nn_contrib_conv2d_NCHWc_1 |        0.568 |         362.05 |    256 |\n",
      "|   10 |        vm_mod_fused_nn_contrib_conv2d_NCHWc_add_add_nn_relu_1 |        0.279 |         372.17 |    128 |\n",
      "|   11 |            vm_mod_fused_nn_contrib_conv2d_NCHWc_add_nn_relu_1 |        0.095 |         275.16 |    128 |\n",
      "|   12 |           vm_mod_fused_nn_contrib_conv2d_NCHWc_add_nn_relu_11 |        0.457 |         506.35 |   1024 |\n",
      "|   13 |            vm_mod_fused_nn_contrib_conv2d_NCHWc_add_nn_relu_9 |        1.503 |         153.93 |    576 |\n",
      "|   14 |           vm_mod_fused_nn_contrib_conv2d_NCHWc_add_nn_relu_12 |        0.533 |         385.83 |    192 |\n",
      "|   15 |          vm_mod_fused_nn_contrib_conv2d_NCHWc_add_add_nn_relu |        0.318 |         330.81 |    128 |\n",
      "|   16 |            vm_mod_fused_nn_contrib_conv2d_NCHWc_add_nn_relu_7 |        0.380 |         609.20 |    576 |\n",
      "|   17 |                        vm_mod_fused_nn_contrib_conv2d_NCHWc_2 |        0.374 |         549.49 |    320 |\n",
      "|   18 |            vm_mod_fused_nn_contrib_conv2d_NCHWc_add_nn_relu_2 |        0.470 |         492.96 |    512 |\n",
      "|   19 |               vm_mod_fused_nn_max_pool2d_multiply_add_nn_relu |        0.043 |          56.47 |     64 |\n",
      "|   20 |                    vm_mod_fused_nn_contrib_conv2d_NCHWc_add_1 |        0.223 |         461.66 |    320 |\n",
      "|   21 |            vm_mod_fused_nn_contrib_conv2d_NCHWc_add_nn_relu_6 |        0.207 |         498.37 |    384 |\n",
      "|   22 |           vm_mod_fused_nn_contrib_conv2d_NCHWc_add_nn_relu_15 |        0.720 |         321.15 |    512 |\n",
      "|   23 |                        vm_mod_fused_nn_contrib_conv2d_NCHWc_3 |        0.522 |         393.75 |    192 |\n",
      "|   24 |                      vm_mod_fused_nn_contrib_conv2d_NCHWc_add |        0.283 |         366.15 |    192 |\n",
      "|   25 |            vm_mod_fused_nn_contrib_conv2d_NCHWc_add_nn_relu_5 |        1.360 |         170.19 |    512 |\n",
      "|   26 |                                     vm_mod_fused_nn_dense_add |        0.042 |          97.67 |     64 |\n",
      "|   27 |           vm_mod_fused_nn_contrib_conv2d_NCHWc_add_nn_relu_10 |        0.210 |         489.93 |    512 |\n",
      "|   28 |            vm_mod_fused_nn_contrib_conv2d_NCHWc_add_nn_relu_3 |        0.238 |         433.14 |    256 |\n",
      "|   29 |                    vm_mod_fused_nn_contrib_conv2d_NCHWc_add_3 |        0.177 |         581.10 |    320 |\n",
      "|   30 |                    vm_mod_fused_nn_contrib_conv2d_NCHWc_add_2 |        0.185 |         556.08 |    448 |\n",
      "-----------------------------------------------------------------------------------------------------------------\n",
      "Estimated total latency: 21.700 ms\tTrials: 9920\tUsed time : 12804 s\tNext ID: 24\t\n",
      "----------------------------------------------------------------------\n",
      "------------------------------  [ Search ]\n",
      "----------------------------------------------------------------------\n",
      "Sample Initial Population\t#s: 2027\tfail_ct: 0\tTime elapsed: 5.61\n",
      "GA Iter: 0\tMax score: 0.8523\tMin score: 0.6358\t#Pop: 128\t#M+: 0\t#M-: 0\n",
      "GA Iter: 4\tMax score: 0.9499\tMin score: 0.8226\t#Pop: 128\t#M+: 1379\t#M-: 77\n",
      "EvolutionarySearch\t\t#s: 128\tTime elapsed: 25.36\n",
      "----------------------------------------------------------------------\n",
      "------------------------------  [ Measure ]\n",
      "----------------------------------------------------------------------\n",
      "Get 64 programs to measure:\n",
      "................................................................*E*E**E*E*E**E*E*E*E**E*E*E*E*E*E*E*E*E*E**E*E*E*E*E*E*E*E*E*E*E*E*E*E*E*E*E*E*E**E*E*E*E**E*E*E**E*E*E**E*E**E**E*E*E\n",
      "Time elapsed for measurement: 39.07 s\n",
      "----------------------------------------------------------------------\n",
      "------------------------------  [ Train cost model ]\n",
      "----------------------------------------------------------------------\n",
      "Time elapsed for training: 5.14 s\n",
      "----------------------------------------------------------------------\n",
      "------------------------------  [ Task Scheduler ]\n",
      "----------------------------------------------------------------------\n",
      "|  ID  |                       Task Description                        | Latency (ms) | Speed (GFLOPS) | Trials |\n",
      "-----------------------------------------------------------------------------------------------------------------\n",
      "|    0 |           vm_mod_fused_nn_contrib_conv2d_NCHWc_add_nn_relu_13 |        1.719 |         134.53 |    704 |\n",
      "|    1 |            vm_mod_fused_nn_contrib_conv2d_NCHWc_add_nn_relu_4 |        0.513 |         401.97 |    256 |\n",
      "|    2 |              vm_mod_fused_nn_contrib_conv2d_NCHWc_add_nn_relu |        0.538 |         441.72 |    192 |\n",
      "|    3 |           vm_mod_fused_nn_contrib_conv2d_NCHWc_add_nn_relu_14 |        0.432 |         237.82 |    384 |\n",
      "|    4 |        vm_mod_fused_nn_contrib_conv2d_NCHWc_add_add_nn_relu_2 |        0.256 |         403.57 |    192 |\n",
      "|    5 | vm_mod_fused_nn_contrib_conv2d_NCHWc_add_multiply_add_nn_relu |        0.382 |         270.37 |    192 |\n",
      "|    6 |            vm_mod_fused_nn_contrib_conv2d_NCHWc_add_nn_relu_8 |        0.560 |         367.64 |    192 |\n",
      "|    7 |                             vm_mod_fused_nn_global_avg_pool2d |        0.008 |          -0.00 |     64 |\n",
      "|    8 |                          vm_mod_fused_nn_contrib_conv2d_NCHWc |        0.288 |         356.44 |    128 |\n",
      "|    9 |                        vm_mod_fused_nn_contrib_conv2d_NCHWc_1 |        0.568 |         362.05 |    256 |\n",
      "|   10 |        vm_mod_fused_nn_contrib_conv2d_NCHWc_add_add_nn_relu_1 |        0.279 |         372.17 |    128 |\n",
      "|   11 |            vm_mod_fused_nn_contrib_conv2d_NCHWc_add_nn_relu_1 |        0.095 |         275.16 |    128 |\n",
      "|   12 |           vm_mod_fused_nn_contrib_conv2d_NCHWc_add_nn_relu_11 |        0.457 |         506.35 |   1024 |\n",
      "|   13 |            vm_mod_fused_nn_contrib_conv2d_NCHWc_add_nn_relu_9 |        1.503 |         153.93 |    576 |\n",
      "|   14 |           vm_mod_fused_nn_contrib_conv2d_NCHWc_add_nn_relu_12 |        0.533 |         385.83 |    192 |\n",
      "|   15 |          vm_mod_fused_nn_contrib_conv2d_NCHWc_add_add_nn_relu |        0.318 |         330.81 |    128 |\n",
      "|   16 |            vm_mod_fused_nn_contrib_conv2d_NCHWc_add_nn_relu_7 |        0.380 |         609.20 |    576 |\n",
      "|   17 |                        vm_mod_fused_nn_contrib_conv2d_NCHWc_2 |        0.374 |         549.49 |    320 |\n",
      "|   18 |            vm_mod_fused_nn_contrib_conv2d_NCHWc_add_nn_relu_2 |        0.470 |         492.96 |    512 |\n",
      "|   19 |               vm_mod_fused_nn_max_pool2d_multiply_add_nn_relu |        0.043 |          56.47 |     64 |\n",
      "|   20 |                    vm_mod_fused_nn_contrib_conv2d_NCHWc_add_1 |        0.223 |         461.66 |    320 |\n",
      "|   21 |            vm_mod_fused_nn_contrib_conv2d_NCHWc_add_nn_relu_6 |        0.207 |         498.37 |    384 |\n",
      "|   22 |           vm_mod_fused_nn_contrib_conv2d_NCHWc_add_nn_relu_15 |        0.720 |         321.15 |    512 |\n",
      "|   23 |                        vm_mod_fused_nn_contrib_conv2d_NCHWc_3 |        0.522 |         393.75 |    192 |\n",
      "|   24 |                      vm_mod_fused_nn_contrib_conv2d_NCHWc_add |        0.271 |         382.62 |    256 |\n",
      "|   25 |            vm_mod_fused_nn_contrib_conv2d_NCHWc_add_nn_relu_5 |        1.360 |         170.19 |    512 |\n",
      "|   26 |                                     vm_mod_fused_nn_dense_add |        0.042 |          97.67 |     64 |\n",
      "|   27 |           vm_mod_fused_nn_contrib_conv2d_NCHWc_add_nn_relu_10 |        0.210 |         489.93 |    512 |\n",
      "|   28 |            vm_mod_fused_nn_contrib_conv2d_NCHWc_add_nn_relu_3 |        0.238 |         433.14 |    256 |\n",
      "|   29 |                    vm_mod_fused_nn_contrib_conv2d_NCHWc_add_3 |        0.177 |         581.10 |    320 |\n",
      "|   30 |                    vm_mod_fused_nn_contrib_conv2d_NCHWc_add_2 |        0.185 |         556.08 |    448 |\n",
      "-----------------------------------------------------------------------------------------------------------------\n",
      "Estimated total latency: 21.675 ms\tTrials: 9984\tUsed time : 12879 s\tNext ID: 24\t\n",
      "----------------------------------------------------------------------\n",
      "------------------------------  [ Search ]\n",
      "----------------------------------------------------------------------\n",
      "Sample Initial Population\t#s: 2031\tfail_ct: 0\tTime elapsed: 5.61\n",
      "GA Iter: 0\tMax score: 0.8936\tMin score: 0.5884\t#Pop: 128\t#M+: 0\t#M-: 0\n",
      "GA Iter: 4\tMax score: 0.9548\tMin score: 0.8159\t#Pop: 128\t#M+: 1382\t#M-: 70\n",
      "EvolutionarySearch\t\t#s: 128\tTime elapsed: 25.95\n",
      "----------------------------------------------------------------------\n",
      "------------------------------  [ Measure ]\n",
      "----------------------------------------------------------------------\n",
      "Get 64 programs to measure:\n",
      "................................................................*E*E*E*E*E*E*E*E*E*E*E*E*E*E*E*E*E*E*E*E*E*E**E*E*E*E*E*E*E*E*E*E*E*E*E*E*E*E*E*E**E*E*E*E**E*E*E*E*E*E*E*E*E*E*E*E*E*E*E*E*E\n",
      "Time elapsed for measurement: 41.28 s\n",
      "----------------------------------------------------------------------\n",
      "------------------------------  [ Train cost model ]\n",
      "----------------------------------------------------------------------\n",
      "Time elapsed for training: 4.44 s\n"
     ]
    }
   ],
   "source": [
    "tvmc.tune(model,\n",
    "          target=\"llvm -mcpu=skylake-avx512\",\n",
    "          tuning_records=\"build/tuning_records.log\",\n",
    "          enable_autoscheduler=True)"
   ]
  },
  {
   "cell_type": "code",
   "execution_count": 9,
   "metadata": {},
   "outputs": [
    {
     "data": {
      "text/plain": [
       "'/tmp/tmpqeh7z8ab/tuning_records'"
      ]
     },
     "execution_count": 9,
     "metadata": {},
     "output_type": "execute_result"
    }
   ],
   "source": []
  },
  {
   "cell_type": "code",
   "execution_count": null,
   "metadata": {},
   "outputs": [],
   "source": []
  }
 ],
 "metadata": {
  "kernelspec": {
   "display_name": "aix",
   "language": "python",
   "name": "python3"
  },
  "language_info": {
   "codemirror_mode": {
    "name": "ipython",
    "version": 3
   },
   "file_extension": ".py",
   "mimetype": "text/x-python",
   "name": "python",
   "nbconvert_exporter": "python",
   "pygments_lexer": "ipython3",
   "version": "3.10.9"
  },
  "orig_nbformat": 4
 },
 "nbformat": 4,
 "nbformat_minor": 2
}
